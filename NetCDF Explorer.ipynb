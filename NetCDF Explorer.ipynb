{
 "cells": [
  {
   "cell_type": "code",
   "metadata": {
    "ExecuteTime": {
     "end_time": "2025-09-08T20:00:20.016088Z",
     "start_time": "2025-09-08T20:00:19.886164Z"
    }
   },
   "source": [
    "import netCDF4\n",
    "import numpy as np\n",
    "\n"
   ],
   "outputs": [],
   "execution_count": 1
  },
  {
   "cell_type": "code",
   "metadata": {
    "ExecuteTime": {
     "end_time": "2025-09-08T20:00:28.139696Z",
     "start_time": "2025-09-08T20:00:28.120108Z"
    }
   },
   "source": "datafile = \"/Users/troy.frever/code/Skagit-IBM/run32/map2000d2014/summary_0.nc\"",
   "outputs": [],
   "execution_count": 2
  },
  {
   "cell_type": "code",
   "metadata": {
    "ExecuteTime": {
     "end_time": "2025-09-08T20:00:32.601761Z",
     "start_time": "2025-09-08T20:00:32.584549Z"
    }
   },
   "source": [
    "ds = netCDF4.Dataset(datafile)"
   ],
   "outputs": [],
   "execution_count": 3
  },
  {
   "cell_type": "code",
   "metadata": {
    "ExecuteTime": {
     "end_time": "2025-09-08T20:00:36.321495Z",
     "start_time": "2025-09-08T20:00:36.312140Z"
    }
   },
   "source": [
    "ds.variables"
   ],
   "outputs": [
    {
     "data": {
      "text/plain": [
       "{'recruitTime': <class 'netCDF4.Variable'>\n",
       " int32 recruitTime(n)\n",
       " unlimited dimensions: \n",
       " current shape = (3565420,)\n",
       " filling on, default _FillValue of -2147483647 used,\n",
       " 'exitTime': <class 'netCDF4.Variable'>\n",
       " int32 exitTime(n)\n",
       " unlimited dimensions: \n",
       " current shape = (3565420,)\n",
       " filling on, default _FillValue of -2147483647 used,\n",
       " 'entryForkLength': <class 'netCDF4.Variable'>\n",
       " float32 entryForkLength(n)\n",
       " unlimited dimensions: \n",
       " current shape = (3565420,)\n",
       " filling on, default _FillValue of 9.969209968386869e+36 used,\n",
       " 'entryMass': <class 'netCDF4.Variable'>\n",
       " float32 entryMass(n)\n",
       " unlimited dimensions: \n",
       " current shape = (3565420,)\n",
       " filling on, default _FillValue of 9.969209968386869e+36 used,\n",
       " 'finalForkLength': <class 'netCDF4.Variable'>\n",
       " float32 finalForkLength(n)\n",
       " unlimited dimensions: \n",
       " current shape = (3565420,)\n",
       " filling on, default _FillValue of 9.969209968386869e+36 used,\n",
       " 'finalMass': <class 'netCDF4.Variable'>\n",
       " float32 finalMass(n)\n",
       " unlimited dimensions: \n",
       " current shape = (3565420,)\n",
       " filling on, default _FillValue of 9.969209968386869e+36 used,\n",
       " 'finalStatus': <class 'netCDF4.Variable'>\n",
       " int32 finalStatus(n)\n",
       " unlimited dimensions: \n",
       " current shape = (3565420,)\n",
       " filling on, default _FillValue of -2147483647 used,\n",
       " 'monitoringPopulation': <class 'netCDF4.Variable'>\n",
       " int32 monitoringPopulation(monitoringPoints, historyLength)\n",
       " unlimited dimensions: \n",
       " current shape = (286, 3984)\n",
       " filling on, default _FillValue of -2147483647 used,\n",
       " 'monitoringPopulationDensity': <class 'netCDF4.Variable'>\n",
       " float32 monitoringPopulationDensity(monitoringPoints, historyLength)\n",
       " unlimited dimensions: \n",
       " current shape = (286, 3984)\n",
       " filling on, default _FillValue of 9.969209968386869e+36 used,\n",
       " 'monitoringDepth': <class 'netCDF4.Variable'>\n",
       " float32 monitoringDepth(monitoringPoints, historyLength)\n",
       " unlimited dimensions: \n",
       " current shape = (286, 3984)\n",
       " filling on, default _FillValue of 9.969209968386869e+36 used,\n",
       " 'monitoringTemp': <class 'netCDF4.Variable'>\n",
       " float32 monitoringTemp(monitoringPoints, historyLength)\n",
       " unlimited dimensions: \n",
       " current shape = (286, 3984)\n",
       " filling on, default _FillValue of 9.969209968386869e+36 used,\n",
       " 'monitoringPointIDs': <class 'netCDF4.Variable'>\n",
       " int32 monitoringPointIDs(monitoringPoints)\n",
       " unlimited dimensions: \n",
       " current shape = (286,)\n",
       " filling on, default _FillValue of -2147483647 used}"
      ]
     },
     "execution_count": 4,
     "metadata": {},
     "output_type": "execute_result"
    }
   ],
   "execution_count": 4
  },
  {
   "metadata": {
    "ExecuteTime": {
     "end_time": "2025-09-08T20:10:12.595186Z",
     "start_time": "2025-09-08T20:10:12.581964Z"
    }
   },
   "cell_type": "code",
   "source": [
    "\n",
    "# Get the monitoringPopulationDensity variable\n",
    "pop_density = ds.variables['monitoringPopulationDensity']\n",
    "\n",
    "# --- For the first monitoring point (index 0) ---\n",
    "print(\"--- For the first monitoring point (index 0) ---\")\n",
    "\n",
    "# Get 10 values from the beginning\n",
    "print(\"\\nFirst 10 values:\")\n",
    "print(pop_density[0, :10])\n",
    "\n",
    "# Get 10 values from the middle\n",
    "middle_index = pop_density.shape[1] // 2\n",
    "print(\"\\nMiddle 10 values:\")\n",
    "print(pop_density[0, middle_index - 5:middle_index + 5])\n",
    "\n",
    "# Get 10 values from the end\n",
    "print(\"\\nLast 10 values:\")\n",
    "print(pop_density[0, -10:])\n",
    "\n",
    "# --- You can do the same for any other monitoring point by changing the first index. ---\n",
    "# --- For example, for the 150th monitoring point (index 149) ---\n",
    "print(\"\\n\\n--- For the 150th monitoring point (index 149) ---\")\n",
    "print(\"\\nFirst 10 values:\")\n",
    "print(pop_density[149, :10])\n",
    "\n",
    "# Get 10 values from the middle\n",
    "middle_index = pop_density.shape[1] // 2\n",
    "print(\"\\nMiddle 10 values:\")\n",
    "print(pop_density[149, middle_index - 5:middle_index + 5])\n",
    "\n",
    "# Get 10 values from the end\n",
    "print(\"\\nLast 10 values:\")\n",
    "print(pop_density[149, -10:])"
   ],
   "outputs": [
    {
     "name": "stdout",
     "output_type": "stream",
     "text": [
      "--- For the first monitoring point (index 0) ---\n",
      "\n",
      "First 10 values:\n",
      "[0. 0. 0. 0. 0. 0. 0. 0. 0. 0.]\n",
      "\n",
      "Middle 10 values:\n",
      "[0.         0.         0.         0.         0.         0.\n",
      " 0.         0.         0.         0.00010768]\n",
      "\n",
      "Last 10 values:\n",
      "[0.         0.         0.         0.         0.         0.\n",
      " 0.00010768 0.00010768 0.00010768 0.00010768]\n",
      "\n",
      "\n",
      "--- For the 150th monitoring point (index 149) ---\n",
      "\n",
      "First 10 values:\n",
      "[0. 0. 0. 0. 0. 0. 0. 0. 0. 0.]\n",
      "\n",
      "Middle 10 values:\n",
      "[0.00349873 0.00318066 0.00445293 0.00349873 0.00667939 0.00572519\n",
      " 0.00413486 0.00540712 0.00763359 0.00540712]\n",
      "\n",
      "Last 10 values:\n",
      "[0.00063613 0.00031807 0.         0.00031807 0.         0.00031807\n",
      " 0.00031807 0.0009542  0.00063613 0.00159033]\n"
     ]
    }
   ],
   "execution_count": 6
  },
  {
   "cell_type": "code",
   "execution_count": 121,
   "metadata": {},
   "outputs": [],
   "source": [
    "import xarray as xr\n",
    "import pandas as pd"
   ]
  },
  {
   "cell_type": "code",
   "execution_count": 122,
   "metadata": {},
   "outputs": [],
   "source": [
    "dsx = xr.open_dataset(datafile)\n",
    "df = dsx.to_dataframe()"
   ]
  },
  {
   "cell_type": "code",
   "execution_count": 125,
   "metadata": {},
   "outputs": [],
   "source": [
    "df.to_csv('./reepicheep/test3/output_0.csv')"
   ]
  },
  {
   "cell_type": "code",
   "execution_count": 126,
   "metadata": {},
   "outputs": [
    {
     "data": {
      "text/html": [
       "<div>\n",
       "<style scoped>\n",
       "    .dataframe tbody tr th:only-of-type {\n",
       "        vertical-align: middle;\n",
       "    }\n",
       "\n",
       "    .dataframe tbody tr th {\n",
       "        vertical-align: top;\n",
       "    }\n",
       "\n",
       "    .dataframe thead th {\n",
       "        text-align: right;\n",
       "    }\n",
       "</style>\n",
       "<table border=\"1\" class=\"dataframe\">\n",
       "  <thead>\n",
       "    <tr style=\"text-align: right;\">\n",
       "      <th></th>\n",
       "      <th>sampleSiteID</th>\n",
       "      <th>sampleTime</th>\n",
       "      <th>samplePop</th>\n",
       "      <th>sampleMeanMass</th>\n",
       "      <th>sampleMeanLength</th>\n",
       "      <th>sampleMeanSpawnTime</th>\n",
       "    </tr>\n",
       "    <tr>\n",
       "      <th>sampleHistoryLength</th>\n",
       "      <th></th>\n",
       "      <th></th>\n",
       "      <th></th>\n",
       "      <th></th>\n",
       "      <th></th>\n",
       "      <th></th>\n",
       "    </tr>\n",
       "  </thead>\n",
       "  <tbody>\n",
       "    <tr>\n",
       "      <th>1023</th>\n",
       "      <td>1023</td>\n",
       "      <td>12</td>\n",
       "      <td>1</td>\n",
       "      <td>1.205475</td>\n",
       "      <td>48.640751</td>\n",
       "      <td>3.000000</td>\n",
       "    </tr>\n",
       "    <tr>\n",
       "      <th>1025</th>\n",
       "      <td>1025</td>\n",
       "      <td>12</td>\n",
       "      <td>7</td>\n",
       "      <td>1.047395</td>\n",
       "      <td>48.156700</td>\n",
       "      <td>0.857143</td>\n",
       "    </tr>\n",
       "    <tr>\n",
       "      <th>1026</th>\n",
       "      <td>1026</td>\n",
       "      <td>12</td>\n",
       "      <td>4</td>\n",
       "      <td>1.250425</td>\n",
       "      <td>51.620960</td>\n",
       "      <td>1.000000</td>\n",
       "    </tr>\n",
       "    <tr>\n",
       "      <th>1027</th>\n",
       "      <td>1027</td>\n",
       "      <td>12</td>\n",
       "      <td>2</td>\n",
       "      <td>0.955323</td>\n",
       "      <td>48.291618</td>\n",
       "      <td>1.500000</td>\n",
       "    </tr>\n",
       "    <tr>\n",
       "      <th>1029</th>\n",
       "      <td>1029</td>\n",
       "      <td>12</td>\n",
       "      <td>2</td>\n",
       "      <td>1.350991</td>\n",
       "      <td>52.030518</td>\n",
       "      <td>1.500000</td>\n",
       "    </tr>\n",
       "    <tr>\n",
       "      <th>...</th>\n",
       "      <td>...</td>\n",
       "      <td>...</td>\n",
       "      <td>...</td>\n",
       "      <td>...</td>\n",
       "      <td>...</td>\n",
       "      <td>...</td>\n",
       "    </tr>\n",
       "    <tr>\n",
       "      <th>375603</th>\n",
       "      <td>1119</td>\n",
       "      <td>3708</td>\n",
       "      <td>2</td>\n",
       "      <td>0.297112</td>\n",
       "      <td>30.533016</td>\n",
       "      <td>2217.000000</td>\n",
       "    </tr>\n",
       "    <tr>\n",
       "      <th>375640</th>\n",
       "      <td>1156</td>\n",
       "      <td>3708</td>\n",
       "      <td>1</td>\n",
       "      <td>0.456105</td>\n",
       "      <td>37.554329</td>\n",
       "      <td>2735.000000</td>\n",
       "    </tr>\n",
       "    <tr>\n",
       "      <th>376352</th>\n",
       "      <td>1868</td>\n",
       "      <td>3708</td>\n",
       "      <td>1</td>\n",
       "      <td>2.442499</td>\n",
       "      <td>60.101543</td>\n",
       "      <td>2182.000000</td>\n",
       "    </tr>\n",
       "    <tr>\n",
       "      <th>376396</th>\n",
       "      <td>1912</td>\n",
       "      <td>3708</td>\n",
       "      <td>1</td>\n",
       "      <td>0.535918</td>\n",
       "      <td>35.629768</td>\n",
       "      <td>2452.000000</td>\n",
       "    </tr>\n",
       "    <tr>\n",
       "      <th>376493</th>\n",
       "      <td>2009</td>\n",
       "      <td>3708</td>\n",
       "      <td>1</td>\n",
       "      <td>0.184126</td>\n",
       "      <td>29.252705</td>\n",
       "      <td>1415.000000</td>\n",
       "    </tr>\n",
       "  </tbody>\n",
       "</table>\n",
       "<p>545 rows × 6 columns</p>\n",
       "</div>"
      ],
      "text/plain": [
       "                     sampleSiteID  sampleTime  samplePop  sampleMeanMass  \\\n",
       "sampleHistoryLength                                                        \n",
       "1023                         1023          12          1        1.205475   \n",
       "1025                         1025          12          7        1.047395   \n",
       "1026                         1026          12          4        1.250425   \n",
       "1027                         1027          12          2        0.955323   \n",
       "1029                         1029          12          2        1.350991   \n",
       "...                           ...         ...        ...             ...   \n",
       "375603                       1119        3708          2        0.297112   \n",
       "375640                       1156        3708          1        0.456105   \n",
       "376352                       1868        3708          1        2.442499   \n",
       "376396                       1912        3708          1        0.535918   \n",
       "376493                       2009        3708          1        0.184126   \n",
       "\n",
       "                     sampleMeanLength  sampleMeanSpawnTime  \n",
       "sampleHistoryLength                                         \n",
       "1023                        48.640751             3.000000  \n",
       "1025                        48.156700             0.857143  \n",
       "1026                        51.620960             1.000000  \n",
       "1027                        48.291618             1.500000  \n",
       "1029                        52.030518             1.500000  \n",
       "...                               ...                  ...  \n",
       "375603                      30.533016          2217.000000  \n",
       "375640                      37.554329          2735.000000  \n",
       "376352                      60.101543          2182.000000  \n",
       "376396                      35.629768          2452.000000  \n",
       "376493                      29.252705          1415.000000  \n",
       "\n",
       "[545 rows x 6 columns]"
      ]
     },
     "execution_count": 126,
     "metadata": {},
     "output_type": "execute_result"
    }
   ],
   "source": [
    "df[df.sampleMeanSpawnTime > 0]"
   ]
  },
  {
   "cell_type": "code",
   "execution_count": 127,
   "metadata": {},
   "outputs": [
    {
     "data": {
      "text/plain": [
       "{'recruitTime': <class 'netCDF4._netCDF4.Variable'>\n",
       " int32 recruitTime(n)\n",
       " unlimited dimensions: \n",
       " current shape = (6278381,)\n",
       " filling on, default _FillValue of -2147483647 used,\n",
       " 'exitTime': <class 'netCDF4._netCDF4.Variable'>\n",
       " int32 exitTime(n)\n",
       " unlimited dimensions: \n",
       " current shape = (6278381,)\n",
       " filling on, default _FillValue of -2147483647 used,\n",
       " 'entryForkLength': <class 'netCDF4._netCDF4.Variable'>\n",
       " float32 entryForkLength(n)\n",
       " unlimited dimensions: \n",
       " current shape = (6278381,)\n",
       " filling on, default _FillValue of 9.969209968386869e+36 used,\n",
       " 'entryMass': <class 'netCDF4._netCDF4.Variable'>\n",
       " float32 entryMass(n)\n",
       " unlimited dimensions: \n",
       " current shape = (6278381,)\n",
       " filling on, default _FillValue of 9.969209968386869e+36 used,\n",
       " 'finalForkLength': <class 'netCDF4._netCDF4.Variable'>\n",
       " float32 finalForkLength(n)\n",
       " unlimited dimensions: \n",
       " current shape = (6278381,)\n",
       " filling on, default _FillValue of 9.969209968386869e+36 used,\n",
       " 'finalMass': <class 'netCDF4._netCDF4.Variable'>\n",
       " float32 finalMass(n)\n",
       " unlimited dimensions: \n",
       " current shape = (6278381,)\n",
       " filling on, default _FillValue of 9.969209968386869e+36 used,\n",
       " 'finalStatus': <class 'netCDF4._netCDF4.Variable'>\n",
       " int32 finalStatus(n)\n",
       " unlimited dimensions: \n",
       " current shape = (6278381,)\n",
       " filling on, default _FillValue of -2147483647 used,\n",
       " 'monitoringPopulation': <class 'netCDF4._netCDF4.Variable'>\n",
       " int32 monitoringPopulation(monitoringPoints, historyLength)\n",
       " unlimited dimensions: \n",
       " current shape = (281, 3984)\n",
       " filling on, default _FillValue of -2147483647 used,\n",
       " 'monitoringDepth': <class 'netCDF4._netCDF4.Variable'>\n",
       " float32 monitoringDepth(monitoringPoints, historyLength)\n",
       " unlimited dimensions: \n",
       " current shape = (281, 3984)\n",
       " filling on, default _FillValue of 9.969209968386869e+36 used,\n",
       " 'monitoringTemp': <class 'netCDF4._netCDF4.Variable'>\n",
       " float32 monitoringTemp(monitoringPoints, historyLength)\n",
       " unlimited dimensions: \n",
       " current shape = (281, 3984)\n",
       " filling on, default _FillValue of 9.969209968386869e+36 used,\n",
       " 'monitoringPointIDs': <class 'netCDF4._netCDF4.Variable'>\n",
       " int32 monitoringPointIDs(monitoringPoints)\n",
       " unlimited dimensions: \n",
       " current shape = (281,)\n",
       " filling on, default _FillValue of -2147483647 used}"
      ]
     },
     "execution_count": 127,
     "metadata": {},
     "output_type": "execute_result"
    }
   ],
   "source": [
    "big_file = '/Users/seth.urion/src/Skagit-IBM/reepicheep/test3/summary_0.nc'\n",
    "# dsx2 = xr.open_dataset(big_file)\n",
    "# df2 = dsx2.to_dataframe()\n",
    "ds = netCDF4.Dataset(big_file)\n",
    "ds.variables"
   ]
  },
  {
   "cell_type": "code",
   "execution_count": 128,
   "metadata": {},
   "outputs": [
    {
     "data": {
      "text/plain": [
       "<class 'netCDF4._netCDF4.Variable'>\n",
       "int32 finalStatus(n)\n",
       "unlimited dimensions: \n",
       "current shape = (6278381,)\n",
       "filling on, default _FillValue of -2147483647 used"
      ]
     },
     "execution_count": 128,
     "metadata": {},
     "output_type": "execute_result"
    }
   ],
   "source": [
    "ds['finalStatus']"
   ]
  },
  {
   "cell_type": "code",
   "execution_count": 129,
   "metadata": {},
   "outputs": [],
   "source": [
    "status = ds.variables['finalStatus'][:]\n"
   ]
  },
  {
   "cell_type": "code",
   "execution_count": 130,
   "metadata": {},
   "outputs": [
    {
     "ename": "TypeError",
     "evalue": "unhashable type: 'MaskedArray'",
     "output_type": "error",
     "traceback": [
      "\u001B[0;31m---------------------------------------------------------------------------\u001B[0m",
      "\u001B[0;31mTypeError\u001B[0m                                 Traceback (most recent call last)",
      "Cell \u001B[0;32mIn[130], line 1\u001B[0m\n\u001B[0;32m----> 1\u001B[0m \u001B[43mds\u001B[49m\u001B[38;5;241;43m.\u001B[39;49m\u001B[43mvariables\u001B[49m\u001B[43m[\u001B[49m\u001B[43mstatus\u001B[49m\u001B[43m \u001B[49m\u001B[38;5;241;43m==\u001B[39;49m\u001B[43m \u001B[49m\u001B[38;5;241;43m4\u001B[39;49m\u001B[43m]\u001B[49m\n",
      "\u001B[0;31mTypeError\u001B[0m: unhashable type: 'MaskedArray'"
     ]
    }
   ],
   "source": [
    "ds.variables[status == 4]"
   ]
  },
  {
   "cell_type": "code",
   "execution_count": 131,
   "metadata": {},
   "outputs": [],
   "source": [
    "exited = ds.variables['finalStatus'][:]"
   ]
  },
  {
   "cell_type": "code",
   "execution_count": 132,
   "metadata": {},
   "outputs": [
    {
     "data": {
      "text/plain": [
       "masked_array(data=[3, 3, 3, ..., 0, 0, 0],\n",
       "             mask=False,\n",
       "       fill_value=999999,\n",
       "            dtype=int32)"
      ]
     },
     "execution_count": 132,
     "metadata": {},
     "output_type": "execute_result"
    }
   ],
   "source": [
    "exited"
   ]
  },
  {
   "cell_type": "code",
   "execution_count": 133,
   "metadata": {},
   "outputs": [],
   "source": [
    "xx = np.argwhere(ds.variables['finalStatus'][:] == 4)\n",
    "# print(xx)\n",
    "exited = []\n",
    "for x in xx:\n",
    "    # print(x)\n",
    "    exited.append(ds['finalForkLength'][x].data[0])"
   ]
  },
  {
   "cell_type": "code",
   "execution_count": 134,
   "metadata": {},
   "outputs": [],
   "source": [
    "xx = np.argwhere(ds.variables['finalStatus'][:] == 3)\n",
    "# print(xx)\n",
    "starved = []\n",
    "for x in xx:\n",
    "    # print(x)\n",
    "    starved.append(ds['finalForkLength'][x].data[0])"
   ]
  },
  {
   "cell_type": "code",
   "execution_count": 135,
   "metadata": {},
   "outputs": [],
   "source": [
    "xx = np.argwhere(ds.variables['finalStatus'][:] == 0)\n",
    "# print(xx)\n",
    "alive = []\n",
    "for x in xx:\n",
    "    # print(x)\n",
    "    alive.append(ds['finalForkLength'][x].data[0])"
   ]
  },
  {
   "cell_type": "code",
   "execution_count": 142,
   "metadata": {},
   "outputs": [],
   "source": [
    "xx = np.argwhere(ds.variables['finalStatus'][:] == 1)\n",
    "# print(xx)\n",
    "mort = []\n",
    "for x in xx:\n",
    "    # print(x)\n",
    "    mort.append(ds['finalForkLength'][x].data[0])"
   ]
  },
  {
   "cell_type": "code",
   "execution_count": 148,
   "metadata": {},
   "outputs": [
    {
     "name": "stdout",
     "output_type": "stream",
     "text": [
      "Exited:    516\n",
      "Starved:   4164167\n",
      "Alive:     2111937\n",
      "Mortality: 1761\n"
     ]
    }
   ],
   "source": [
    "print('Exited:    ' + str(len(exited)))\n",
    "print('Starved:   ' + str(len(starved)))\n",
    "print('Alive:     ' + str(len(alive)))\n",
    "print('Mortality: ' + str(len(mort)))"
   ]
  },
  {
   "cell_type": "code",
   "execution_count": 144,
   "metadata": {},
   "outputs": [
    {
     "data": {
      "text/plain": [
       "<function matplotlib.pyplot.show(close=None, block=None)>"
      ]
     },
     "execution_count": 144,
     "metadata": {},
     "output_type": "execute_result"
    },
    {
     "data": {
      "image/png": "[encoded data removed]",
      "text/plain": [
       "<Figure size 640x480 with 1 Axes>"
      ]
     },
     "metadata": {},
     "output_type": "display_data"
    }
   ],
   "source": [
    "plt.hist(exited, [x for x in range(15, 100, 5)], color=\"orange\", edgecolor=\"black\")\n",
    "plt.yscale('log')\n",
    "plt.show"
   ]
  },
  {
   "cell_type": "code",
   "execution_count": 145,
   "metadata": {},
   "outputs": [
    {
     "data": {
      "text/plain": [
       "<function matplotlib.pyplot.show(close=None, block=None)>"
      ]
     },
     "execution_count": 145,
     "metadata": {},
     "output_type": "execute_result"
    },
    {
     "data": {
      "image/png": "[encoded data removed]",
      "text/plain": [
       "<Figure size 640x480 with 1 Axes>"
      ]
     },
     "metadata": {},
     "output_type": "display_data"
    }
   ],
   "source": [
    "plt.hist(starved, [x for x in range(15, 100, 5)], color=\"orange\", edgecolor=\"black\")\n",
    "plt.yscale('log')\n",
    "plt.show"
   ]
  },
  {
   "cell_type": "code",
   "execution_count": 146,
   "metadata": {},
   "outputs": [
    {
     "data": {
      "text/plain": [
       "<function matplotlib.pyplot.show(close=None, block=None)>"
      ]
     },
     "execution_count": 146,
     "metadata": {},
     "output_type": "execute_result"
    },
    {
     "data": {
      "image/png": "[encoded data removed]",
      "text/plain": [
       "<Figure size 640x480 with 1 Axes>"
      ]
     },
     "metadata": {},
     "output_type": "display_data"
    }
   ],
   "source": [
    "plt.hist(alive, [x for x in range(15, 100, 5)], color=\"orange\", edgecolor=\"black\")\n",
    "plt.yscale('log')\n",
    "plt.show"
   ]
  },
  {
   "cell_type": "code",
   "execution_count": 147,
   "metadata": {},
   "outputs": [
    {
     "data": {
      "text/plain": [
       "<function matplotlib.pyplot.show(close=None, block=None)>"
      ]
     },
     "execution_count": 147,
     "metadata": {},
     "output_type": "execute_result"
    },
    {
     "data": {
      "image/png": "[encoded data removed]",
      "text/plain": [
       "<Figure size 640x480 with 1 Axes>"
      ]
     },
     "metadata": {},
     "output_type": "display_data"
    }
   ],
   "source": [
    "plt.hist(mort, [x for x in range(15, 100, 5)], color=\"orange\", edgecolor=\"black\")\n",
    "plt.yscale('log')\n",
    "plt.show"
   ]
  },
  {
   "cell_type": "code",
   "execution_count": null,
   "metadata": {},
   "outputs": [
    {
     "data": {
      "text/plain": [
       "'`status[n]`: ints, current/final status of each fish\\n        - 0: Alive\\n        - 1: Dead from mortality risk\\n        - 2: Dead from stranding\\n        - 3: Dead from starvation\\n        - 4: Exited'"
      ]
     },
     "execution_count": 30,
     "metadata": {},
     "output_type": "execute_result"
    }
   ],
   "source": [
    "\"\"\"`status[n]`: ints, current/final status of each fish\n",
    "        - 0: Alive\n",
    "        - 1: Dead from mortality risk\n",
    "        - 2: Dead from stranding\n",
    "        - 3: Dead from starvation\n",
    "        - 4: Exited\"\"\"\n"
   ]
  },
  {
   "cell_type": "code",
   "execution_count": null,
   "metadata": {},
   "outputs": [
    {
     "ename": "TypeError",
     "evalue": "type DataArray doesn't define __round__ method",
     "output_type": "error",
     "traceback": [
      "\u001B[0;31m---------------------------------------------------------------------------\u001B[0m",
      "\u001B[0;31mTypeError\u001B[0m                                 Traceback (most recent call last)",
      "Cell \u001B[0;32mIn[16], line 1\u001B[0m\n\u001B[0;32m----> 1\u001B[0m dsx2\u001B[38;5;241m.\u001B[39mgroupby(\u001B[38;5;28;43mround\u001B[39;49m\u001B[43m(\u001B[49m\u001B[43mdsx2\u001B[49m\u001B[38;5;241;43m.\u001B[39;49m\u001B[43mfinalForkLength\u001B[49m\u001B[43m,\u001B[49m\u001B[43m \u001B[49m\u001B[38;5;241;43m0\u001B[39;49m\u001B[43m)\u001B[49m)\u001B[38;5;241m.\u001B[39mcount()\n",
      "\u001B[0;31mTypeError\u001B[0m: type DataArray doesn't define __round__ method"
     ]
    }
   ],
   "source": [
    "dsx2.groupby(round(dsx2.finalForkLength, 0)).count()"
   ]
  },
  {
   "cell_type": "code",
   "execution_count": null,
   "metadata": {},
   "outputs": [
    {
     "data": {
      "text/plain": [
       "array([36.83105 , 40.4159  , 32.07501 , ..., 53.74385 , 52.806934,\n",
       "       61.05795 ], dtype=float32)"
      ]
     },
     "execution_count": 15,
     "metadata": {},
     "output_type": "execute_result"
    }
   ],
   "source": [
    "dsx2.finalForkLength.values"
   ]
  },
  {
   "cell_type": "code",
   "execution_count": null,
   "metadata": {},
   "outputs": [
    {
     "data": {
      "text/html": [
       "<div><svg style=\"position: absolute; width: 0; height: 0; overflow: hidden\">\n",
       "<defs>\n",
       "<symbol id=\"icon-database\" viewBox=\"0 0 32 32\">\n",
       "<path d=\"M16 0c-8.837 0-16 2.239-16 5v4c0 2.761 7.163 5 16 5s16-2.239 16-5v-4c0-2.761-7.163-5-16-5z\"></path>\n",
       "<path d=\"M16 17c-8.837 0-16-2.239-16-5v6c0 2.761 7.163 5 16 5s16-2.239 16-5v-6c0 2.761-7.163 5-16 5z\"></path>\n",
       "<path d=\"M16 26c-8.837 0-16-2.239-16-5v6c0 2.761 7.163 5 16 5s16-2.239 16-5v-6c0 2.761-7.163 5-16 5z\"></path>\n",
       "</symbol>\n",
       "<symbol id=\"icon-file-text2\" viewBox=\"0 0 32 32\">\n",
       "<path d=\"M28.681 7.159c-0.694-0.947-1.662-2.053-2.724-3.116s-2.169-2.030-3.116-2.724c-1.612-1.182-2.393-1.319-2.841-1.319h-15.5c-1.378 0-2.5 1.121-2.5 2.5v27c0 1.378 1.122 2.5 2.5 2.5h23c1.378 0 2.5-1.122 2.5-2.5v-19.5c0-0.448-0.137-1.23-1.319-2.841zM24.543 5.457c0.959 0.959 1.712 1.825 2.268 2.543h-4.811v-4.811c0.718 0.556 1.584 1.309 2.543 2.268zM28 29.5c0 0.271-0.229 0.5-0.5 0.5h-23c-0.271 0-0.5-0.229-0.5-0.5v-27c0-0.271 0.229-0.5 0.5-0.5 0 0 15.499-0 15.5 0v7c0 0.552 0.448 1 1 1h7v19.5z\"></path>\n",
       "<path d=\"M23 26h-14c-0.552 0-1-0.448-1-1s0.448-1 1-1h14c0.552 0 1 0.448 1 1s-0.448 1-1 1z\"></path>\n",
       "<path d=\"M23 22h-14c-0.552 0-1-0.448-1-1s0.448-1 1-1h14c0.552 0 1 0.448 1 1s-0.448 1-1 1z\"></path>\n",
       "<path d=\"M23 18h-14c-0.552 0-1-0.448-1-1s0.448-1 1-1h14c0.552 0 1 0.448 1 1s-0.448 1-1 1z\"></path>\n",
       "</symbol>\n",
       "</defs>\n",
       "</svg>\n",
       "<style>/* CSS stylesheet for displaying xarray objects in jupyterlab.\n",
       " *\n",
       " */\n",
       "\n",
       ":root {\n",
       "  --xr-font-color0: var(--jp-content-font-color0, rgba(0, 0, 0, 1));\n",
       "  --xr-font-color2: var(--jp-content-font-color2, rgba(0, 0, 0, 0.54));\n",
       "  --xr-font-color3: var(--jp-content-font-color3, rgba(0, 0, 0, 0.38));\n",
       "  --xr-border-color: var(--jp-border-color2, #e0e0e0);\n",
       "  --xr-disabled-color: var(--jp-layout-color3, #bdbdbd);\n",
       "  --xr-background-color: var(--jp-layout-color0, white);\n",
       "  --xr-background-color-row-even: var(--jp-layout-color1, white);\n",
       "  --xr-background-color-row-odd: var(--jp-layout-color2, #eeeeee);\n",
       "}\n",
       "\n",
       "html[theme=dark],\n",
       "body[data-theme=dark],\n",
       "body.vscode-dark {\n",
       "  --xr-font-color0: rgba(255, 255, 255, 1);\n",
       "  --xr-font-color2: rgba(255, 255, 255, 0.54);\n",
       "  --xr-font-color3: rgba(255, 255, 255, 0.38);\n",
       "  --xr-border-color: #1F1F1F;\n",
       "  --xr-disabled-color: #515151;\n",
       "  --xr-background-color: #111111;\n",
       "  --xr-background-color-row-even: #111111;\n",
       "  --xr-background-color-row-odd: #313131;\n",
       "}\n",
       "\n",
       ".xr-wrap {\n",
       "  display: block !important;\n",
       "  min-width: 300px;\n",
       "  max-width: 700px;\n",
       "}\n",
       "\n",
       ".xr-text-repr-fallback {\n",
       "  /* fallback to plain text repr when CSS is not injected (untrusted notebook) */\n",
       "  display: none;\n",
       "}\n",
       "\n",
       ".xr-header {\n",
       "  padding-top: 6px;\n",
       "  padding-bottom: 6px;\n",
       "  margin-bottom: 4px;\n",
       "  border-bottom: solid 1px var(--xr-border-color);\n",
       "}\n",
       "\n",
       ".xr-header > div,\n",
       ".xr-header > ul {\n",
       "  display: inline;\n",
       "  margin-top: 0;\n",
       "  margin-bottom: 0;\n",
       "}\n",
       "\n",
       ".xr-obj-type,\n",
       ".xr-array-name {\n",
       "  margin-left: 2px;\n",
       "  margin-right: 10px;\n",
       "}\n",
       "\n",
       ".xr-obj-type {\n",
       "  color: var(--xr-font-color2);\n",
       "}\n",
       "\n",
       ".xr-sections {\n",
       "  padding-left: 0 !important;\n",
       "  display: grid;\n",
       "  grid-template-columns: 150px auto auto 1fr 20px 20px;\n",
       "}\n",
       "\n",
       ".xr-section-item {\n",
       "  display: contents;\n",
       "}\n",
       "\n",
       ".xr-section-item input {\n",
       "  display: none;\n",
       "}\n",
       "\n",
       ".xr-section-item input + label {\n",
       "  color: var(--xr-disabled-color);\n",
       "}\n",
       "\n",
       ".xr-section-item input:enabled + label {\n",
       "  cursor: pointer;\n",
       "  color: var(--xr-font-color2);\n",
       "}\n",
       "\n",
       ".xr-section-item input:enabled + label:hover {\n",
       "  color: var(--xr-font-color0);\n",
       "}\n",
       "\n",
       ".xr-section-summary {\n",
       "  grid-column: 1;\n",
       "  color: var(--xr-font-color2);\n",
       "  font-weight: 500;\n",
       "}\n",
       "\n",
       ".xr-section-summary > span {\n",
       "  display: inline-block;\n",
       "  padding-left: 0.5em;\n",
       "}\n",
       "\n",
       ".xr-section-summary-in:disabled + label {\n",
       "  color: var(--xr-font-color2);\n",
       "}\n",
       "\n",
       ".xr-section-summary-in + label:before {\n",
       "  display: inline-block;\n",
       "  content: '►';\n",
       "  font-size: 11px;\n",
       "  width: 15px;\n",
       "  text-align: center;\n",
       "}\n",
       "\n",
       ".xr-section-summary-in:disabled + label:before {\n",
       "  color: var(--xr-disabled-color);\n",
       "}\n",
       "\n",
       ".xr-section-summary-in:checked + label:before {\n",
       "  content: '▼';\n",
       "}\n",
       "\n",
       ".xr-section-summary-in:checked + label > span {\n",
       "  display: none;\n",
       "}\n",
       "\n",
       ".xr-section-summary,\n",
       ".xr-section-inline-details {\n",
       "  padding-top: 4px;\n",
       "  padding-bottom: 4px;\n",
       "}\n",
       "\n",
       ".xr-section-inline-details {\n",
       "  grid-column: 2 / -1;\n",
       "}\n",
       "\n",
       ".xr-section-details {\n",
       "  display: none;\n",
       "  grid-column: 1 / -1;\n",
       "  margin-bottom: 5px;\n",
       "}\n",
       "\n",
       ".xr-section-summary-in:checked ~ .xr-section-details {\n",
       "  display: contents;\n",
       "}\n",
       "\n",
       ".xr-array-wrap {\n",
       "  grid-column: 1 / -1;\n",
       "  display: grid;\n",
       "  grid-template-columns: 20px auto;\n",
       "}\n",
       "\n",
       ".xr-array-wrap > label {\n",
       "  grid-column: 1;\n",
       "  vertical-align: top;\n",
       "}\n",
       "\n",
       ".xr-preview {\n",
       "  color: var(--xr-font-color3);\n",
       "}\n",
       "\n",
       ".xr-array-preview,\n",
       ".xr-array-data {\n",
       "  padding: 0 5px !important;\n",
       "  grid-column: 2;\n",
       "}\n",
       "\n",
       ".xr-array-data,\n",
       ".xr-array-in:checked ~ .xr-array-preview {\n",
       "  display: none;\n",
       "}\n",
       "\n",
       ".xr-array-in:checked ~ .xr-array-data,\n",
       ".xr-array-preview {\n",
       "  display: inline-block;\n",
       "}\n",
       "\n",
       ".xr-dim-list {\n",
       "  display: inline-block !important;\n",
       "  list-style: none;\n",
       "  padding: 0 !important;\n",
       "  margin: 0;\n",
       "}\n",
       "\n",
       ".xr-dim-list li {\n",
       "  display: inline-block;\n",
       "  padding: 0;\n",
       "  margin: 0;\n",
       "}\n",
       "\n",
       ".xr-dim-list:before {\n",
       "  content: '(';\n",
       "}\n",
       "\n",
       ".xr-dim-list:after {\n",
       "  content: ')';\n",
       "}\n",
       "\n",
       ".xr-dim-list li:not(:last-child):after {\n",
       "  content: ',';\n",
       "  padding-right: 5px;\n",
       "}\n",
       "\n",
       ".xr-has-index {\n",
       "  font-weight: bold;\n",
       "}\n",
       "\n",
       ".xr-var-list,\n",
       ".xr-var-item {\n",
       "  display: contents;\n",
       "}\n",
       "\n",
       ".xr-var-item > div,\n",
       ".xr-var-item label,\n",
       ".xr-var-item > .xr-var-name span {\n",
       "  background-color: var(--xr-background-color-row-even);\n",
       "  margin-bottom: 0;\n",
       "}\n",
       "\n",
       ".xr-var-item > .xr-var-name:hover span {\n",
       "  padding-right: 5px;\n",
       "}\n",
       "\n",
       ".xr-var-list > li:nth-child(odd) > div,\n",
       ".xr-var-list > li:nth-child(odd) > label,\n",
       ".xr-var-list > li:nth-child(odd) > .xr-var-name span {\n",
       "  background-color: var(--xr-background-color-row-odd);\n",
       "}\n",
       "\n",
       ".xr-var-name {\n",
       "  grid-column: 1;\n",
       "}\n",
       "\n",
       ".xr-var-dims {\n",
       "  grid-column: 2;\n",
       "}\n",
       "\n",
       ".xr-var-dtype {\n",
       "  grid-column: 3;\n",
       "  text-align: right;\n",
       "  color: var(--xr-font-color2);\n",
       "}\n",
       "\n",
       ".xr-var-preview {\n",
       "  grid-column: 4;\n",
       "}\n",
       "\n",
       ".xr-index-preview {\n",
       "  grid-column: 2 / 5;\n",
       "  color: var(--xr-font-color2);\n",
       "}\n",
       "\n",
       ".xr-var-name,\n",
       ".xr-var-dims,\n",
       ".xr-var-dtype,\n",
       ".xr-preview,\n",
       ".xr-attrs dt {\n",
       "  white-space: nowrap;\n",
       "  overflow: hidden;\n",
       "  text-overflow: ellipsis;\n",
       "  padding-right: 10px;\n",
       "}\n",
       "\n",
       ".xr-var-name:hover,\n",
       ".xr-var-dims:hover,\n",
       ".xr-var-dtype:hover,\n",
       ".xr-attrs dt:hover {\n",
       "  overflow: visible;\n",
       "  width: auto;\n",
       "  z-index: 1;\n",
       "}\n",
       "\n",
       ".xr-var-attrs,\n",
       ".xr-var-data,\n",
       ".xr-index-data {\n",
       "  display: none;\n",
       "  background-color: var(--xr-background-color) !important;\n",
       "  padding-bottom: 5px !important;\n",
       "}\n",
       "\n",
       ".xr-var-attrs-in:checked ~ .xr-var-attrs,\n",
       ".xr-var-data-in:checked ~ .xr-var-data,\n",
       ".xr-index-data-in:checked ~ .xr-index-data {\n",
       "  display: block;\n",
       "}\n",
       "\n",
       ".xr-var-data > table {\n",
       "  float: right;\n",
       "}\n",
       "\n",
       ".xr-var-name span,\n",
       ".xr-var-data,\n",
       ".xr-index-name div,\n",
       ".xr-index-data,\n",
       ".xr-attrs {\n",
       "  padding-left: 25px !important;\n",
       "}\n",
       "\n",
       ".xr-attrs,\n",
       ".xr-var-attrs,\n",
       ".xr-var-data,\n",
       ".xr-index-data {\n",
       "  grid-column: 1 / -1;\n",
       "}\n",
       "\n",
       "dl.xr-attrs {\n",
       "  padding: 0;\n",
       "  margin: 0;\n",
       "  display: grid;\n",
       "  grid-template-columns: 125px auto;\n",
       "}\n",
       "\n",
       ".xr-attrs dt,\n",
       ".xr-attrs dd {\n",
       "  padding: 0;\n",
       "  margin: 0;\n",
       "  float: left;\n",
       "  padding-right: 10px;\n",
       "  width: auto;\n",
       "}\n",
       "\n",
       ".xr-attrs dt {\n",
       "  font-weight: normal;\n",
       "  grid-column: 1;\n",
       "}\n",
       "\n",
       ".xr-attrs dt:hover span {\n",
       "  display: inline-block;\n",
       "  background: var(--xr-background-color);\n",
       "  padding-right: 10px;\n",
       "}\n",
       "\n",
       ".xr-attrs dd {\n",
       "  grid-column: 2;\n",
       "  white-space: pre-wrap;\n",
       "  word-break: break-all;\n",
       "}\n",
       "\n",
       ".xr-icon-database,\n",
       ".xr-icon-file-text2,\n",
       ".xr-no-icon {\n",
       "  display: inline-block;\n",
       "  vertical-align: middle;\n",
       "  width: 1em;\n",
       "  height: 1.5em !important;\n",
       "  stroke-width: 0;\n",
       "  stroke: currentColor;\n",
       "  fill: currentColor;\n",
       "}\n",
       "</style><pre class='xr-text-repr-fallback'>&lt;xarray.Dataset&gt;\n",
       "Dimensions:               (finalForkLength_bins: 1, monitoringPoints: 281,\n",
       "                           historyLength: 3984)\n",
       "Coordinates:\n",
       "  * finalForkLength_bins  (finalForkLength_bins) object (75, 85]\n",
       "Dimensions without coordinates: monitoringPoints, historyLength\n",
       "Data variables:\n",
       "    recruitTime           (finalForkLength_bins) int64 2583\n",
       "    exitTime              (finalForkLength_bins) int64 2583\n",
       "    entryForkLength       (finalForkLength_bins) int64 2583\n",
       "    entryMass             (finalForkLength_bins) int64 2583\n",
       "    finalForkLength       (finalForkLength_bins) int64 2583\n",
       "    finalMass             (finalForkLength_bins) int64 2583\n",
       "    finalStatus           (finalForkLength_bins) int64 2583\n",
       "    monitoringPopulation  (finalForkLength_bins, monitoringPoints, historyLength) int64 ...\n",
       "    monitoringDepth       (finalForkLength_bins, monitoringPoints, historyLength) int64 ...\n",
       "    monitoringTemp        (finalForkLength_bins, monitoringPoints, historyLength) int64 ...\n",
       "    monitoringPointIDs    (finalForkLength_bins, monitoringPoints) int64 1 ... 1</pre><div class='xr-wrap' style='display:none'><div class='xr-header'><div class='xr-obj-type'>xarray.Dataset</div></div><ul class='xr-sections'><li class='xr-section-item'><input id='section-db3c5ca9-ef5a-47f7-a2fd-634ab36f8221' class='xr-section-summary-in' type='checkbox' disabled ><label for='section-db3c5ca9-ef5a-47f7-a2fd-634ab36f8221' class='xr-section-summary'  title='Expand/collapse section'>Dimensions:</label><div class='xr-section-inline-details'><ul class='xr-dim-list'><li><span class='xr-has-index'>finalForkLength_bins</span>: 1</li><li><span>monitoringPoints</span>: 281</li><li><span>historyLength</span>: 3984</li></ul></div><div class='xr-section-details'></div></li><li class='xr-section-item'><input id='section-25410003-6991-4caf-90e3-f31941334f2a' class='xr-section-summary-in' type='checkbox'  checked><label for='section-25410003-6991-4caf-90e3-f31941334f2a' class='xr-section-summary' >Coordinates: <span>(1)</span></label><div class='xr-section-inline-details'></div><div class='xr-section-details'><ul class='xr-var-list'><li class='xr-var-item'><div class='xr-var-name'><span class='xr-has-index'>finalForkLength_bins</span></div><div class='xr-var-dims'>(finalForkLength_bins)</div><div class='xr-var-dtype'>object</div><div class='xr-var-preview xr-preview'>(75, 85]</div><input id='attrs-0a08844e-09a8-477c-97bf-bc167bf35ccd' class='xr-var-attrs-in' type='checkbox' disabled><label for='attrs-0a08844e-09a8-477c-97bf-bc167bf35ccd' title='Show/Hide attributes'><svg class='icon xr-icon-file-text2'><use xlink:href='#icon-file-text2'></use></svg></label><input id='data-0a046102-d1b0-4772-a921-cdf2d13fc0cd' class='xr-var-data-in' type='checkbox'><label for='data-0a046102-d1b0-4772-a921-cdf2d13fc0cd' title='Show/Hide data repr'><svg class='icon xr-icon-database'><use xlink:href='#icon-database'></use></svg></label><div class='xr-var-attrs'><dl class='xr-attrs'></dl></div><div class='xr-var-data'><pre>array([Interval(75, 85, closed=&#x27;right&#x27;)], dtype=object)</pre></div></li></ul></div></li><li class='xr-section-item'><input id='section-542e456b-deed-421b-87fc-4e700bd87a2e' class='xr-section-summary-in' type='checkbox'  checked><label for='section-542e456b-deed-421b-87fc-4e700bd87a2e' class='xr-section-summary' >Data variables: <span>(11)</span></label><div class='xr-section-inline-details'></div><div class='xr-section-details'><ul class='xr-var-list'><li class='xr-var-item'><div class='xr-var-name'><span>recruitTime</span></div><div class='xr-var-dims'>(finalForkLength_bins)</div><div class='xr-var-dtype'>int64</div><div class='xr-var-preview xr-preview'>2583</div><input id='attrs-4cd8262e-6a0c-4eac-9e63-5c07af8906b4' class='xr-var-attrs-in' type='checkbox' disabled><label for='attrs-4cd8262e-6a0c-4eac-9e63-5c07af8906b4' title='Show/Hide attributes'><svg class='icon xr-icon-file-text2'><use xlink:href='#icon-file-text2'></use></svg></label><input id='data-4756ffa8-0cff-4af3-b37e-6f68275c1947' class='xr-var-data-in' type='checkbox'><label for='data-4756ffa8-0cff-4af3-b37e-6f68275c1947' title='Show/Hide data repr'><svg class='icon xr-icon-database'><use xlink:href='#icon-database'></use></svg></label><div class='xr-var-attrs'><dl class='xr-attrs'></dl></div><div class='xr-var-data'><pre>array([2583])</pre></div></li><li class='xr-var-item'><div class='xr-var-name'><span>exitTime</span></div><div class='xr-var-dims'>(finalForkLength_bins)</div><div class='xr-var-dtype'>int64</div><div class='xr-var-preview xr-preview'>2583</div><input id='attrs-a841db27-78ad-463b-90ad-cc7867e7d75a' class='xr-var-attrs-in' type='checkbox' disabled><label for='attrs-a841db27-78ad-463b-90ad-cc7867e7d75a' title='Show/Hide attributes'><svg class='icon xr-icon-file-text2'><use xlink:href='#icon-file-text2'></use></svg></label><input id='data-a89c6298-6dba-4ee8-958f-019bea80eb42' class='xr-var-data-in' type='checkbox'><label for='data-a89c6298-6dba-4ee8-958f-019bea80eb42' title='Show/Hide data repr'><svg class='icon xr-icon-database'><use xlink:href='#icon-database'></use></svg></label><div class='xr-var-attrs'><dl class='xr-attrs'></dl></div><div class='xr-var-data'><pre>array([2583])</pre></div></li><li class='xr-var-item'><div class='xr-var-name'><span>entryForkLength</span></div><div class='xr-var-dims'>(finalForkLength_bins)</div><div class='xr-var-dtype'>int64</div><div class='xr-var-preview xr-preview'>2583</div><input id='attrs-8dcc9242-d088-446f-a4af-38edcce875a0' class='xr-var-attrs-in' type='checkbox' disabled><label for='attrs-8dcc9242-d088-446f-a4af-38edcce875a0' title='Show/Hide attributes'><svg class='icon xr-icon-file-text2'><use xlink:href='#icon-file-text2'></use></svg></label><input id='data-4586a6e8-cb65-46d1-a0b0-850981358a37' class='xr-var-data-in' type='checkbox'><label for='data-4586a6e8-cb65-46d1-a0b0-850981358a37' title='Show/Hide data repr'><svg class='icon xr-icon-database'><use xlink:href='#icon-database'></use></svg></label><div class='xr-var-attrs'><dl class='xr-attrs'></dl></div><div class='xr-var-data'><pre>array([2583])</pre></div></li><li class='xr-var-item'><div class='xr-var-name'><span>entryMass</span></div><div class='xr-var-dims'>(finalForkLength_bins)</div><div class='xr-var-dtype'>int64</div><div class='xr-var-preview xr-preview'>2583</div><input id='attrs-07ebffb7-ed99-4bd1-b201-07b33fb1ee2e' class='xr-var-attrs-in' type='checkbox' disabled><label for='attrs-07ebffb7-ed99-4bd1-b201-07b33fb1ee2e' title='Show/Hide attributes'><svg class='icon xr-icon-file-text2'><use xlink:href='#icon-file-text2'></use></svg></label><input id='data-2cc9f2a4-e58d-4711-bfa4-cb606af05d22' class='xr-var-data-in' type='checkbox'><label for='data-2cc9f2a4-e58d-4711-bfa4-cb606af05d22' title='Show/Hide data repr'><svg class='icon xr-icon-database'><use xlink:href='#icon-database'></use></svg></label><div class='xr-var-attrs'><dl class='xr-attrs'></dl></div><div class='xr-var-data'><pre>array([2583])</pre></div></li><li class='xr-var-item'><div class='xr-var-name'><span>finalForkLength</span></div><div class='xr-var-dims'>(finalForkLength_bins)</div><div class='xr-var-dtype'>int64</div><div class='xr-var-preview xr-preview'>2583</div><input id='attrs-4b85367f-4982-4c10-b440-e731189952e8' class='xr-var-attrs-in' type='checkbox' disabled><label for='attrs-4b85367f-4982-4c10-b440-e731189952e8' title='Show/Hide attributes'><svg class='icon xr-icon-file-text2'><use xlink:href='#icon-file-text2'></use></svg></label><input id='data-dc26f0d8-c63a-483b-b4f5-b09e311b190e' class='xr-var-data-in' type='checkbox'><label for='data-dc26f0d8-c63a-483b-b4f5-b09e311b190e' title='Show/Hide data repr'><svg class='icon xr-icon-database'><use xlink:href='#icon-database'></use></svg></label><div class='xr-var-attrs'><dl class='xr-attrs'></dl></div><div class='xr-var-data'><pre>array([2583])</pre></div></li><li class='xr-var-item'><div class='xr-var-name'><span>finalMass</span></div><div class='xr-var-dims'>(finalForkLength_bins)</div><div class='xr-var-dtype'>int64</div><div class='xr-var-preview xr-preview'>2583</div><input id='attrs-503c5b55-68e3-42be-8cea-e349ecf2ea9f' class='xr-var-attrs-in' type='checkbox' disabled><label for='attrs-503c5b55-68e3-42be-8cea-e349ecf2ea9f' title='Show/Hide attributes'><svg class='icon xr-icon-file-text2'><use xlink:href='#icon-file-text2'></use></svg></label><input id='data-bf539f58-7938-41f5-b61e-3db55d58fd1d' class='xr-var-data-in' type='checkbox'><label for='data-bf539f58-7938-41f5-b61e-3db55d58fd1d' title='Show/Hide data repr'><svg class='icon xr-icon-database'><use xlink:href='#icon-database'></use></svg></label><div class='xr-var-attrs'><dl class='xr-attrs'></dl></div><div class='xr-var-data'><pre>array([2583])</pre></div></li><li class='xr-var-item'><div class='xr-var-name'><span>finalStatus</span></div><div class='xr-var-dims'>(finalForkLength_bins)</div><div class='xr-var-dtype'>int64</div><div class='xr-var-preview xr-preview'>2583</div><input id='attrs-c2bbda01-d929-4956-bded-f917b0f7a885' class='xr-var-attrs-in' type='checkbox' disabled><label for='attrs-c2bbda01-d929-4956-bded-f917b0f7a885' title='Show/Hide attributes'><svg class='icon xr-icon-file-text2'><use xlink:href='#icon-file-text2'></use></svg></label><input id='data-a30d0f2f-b221-4790-aec7-158801cbadad' class='xr-var-data-in' type='checkbox'><label for='data-a30d0f2f-b221-4790-aec7-158801cbadad' title='Show/Hide data repr'><svg class='icon xr-icon-database'><use xlink:href='#icon-database'></use></svg></label><div class='xr-var-attrs'><dl class='xr-attrs'></dl></div><div class='xr-var-data'><pre>array([2583])</pre></div></li><li class='xr-var-item'><div class='xr-var-name'><span>monitoringPopulation</span></div><div class='xr-var-dims'>(finalForkLength_bins, monitoringPoints, historyLength)</div><div class='xr-var-dtype'>int64</div><div class='xr-var-preview xr-preview'>1 1 1 1 1 1 1 1 ... 1 1 1 1 1 1 1 1</div><input id='attrs-abb9d383-561a-4789-a43f-0a0f5b814c9d' class='xr-var-attrs-in' type='checkbox' disabled><label for='attrs-abb9d383-561a-4789-a43f-0a0f5b814c9d' title='Show/Hide attributes'><svg class='icon xr-icon-file-text2'><use xlink:href='#icon-file-text2'></use></svg></label><input id='data-43a7bfc9-9a03-41d7-9a85-05ee006e6848' class='xr-var-data-in' type='checkbox'><label for='data-43a7bfc9-9a03-41d7-9a85-05ee006e6848' title='Show/Hide data repr'><svg class='icon xr-icon-database'><use xlink:href='#icon-database'></use></svg></label><div class='xr-var-attrs'><dl class='xr-attrs'></dl></div><div class='xr-var-data'><pre>array([[[1, 1, 1, ..., 1, 1, 1],\n",
       "        [1, 1, 1, ..., 1, 1, 1],\n",
       "        [1, 1, 1, ..., 1, 1, 1],\n",
       "        ...,\n",
       "        [1, 1, 1, ..., 1, 1, 1],\n",
       "        [1, 1, 1, ..., 1, 1, 1],\n",
       "        [1, 1, 1, ..., 1, 1, 1]]])</pre></div></li><li class='xr-var-item'><div class='xr-var-name'><span>monitoringDepth</span></div><div class='xr-var-dims'>(finalForkLength_bins, monitoringPoints, historyLength)</div><div class='xr-var-dtype'>int64</div><div class='xr-var-preview xr-preview'>1 1 1 1 1 1 1 1 ... 1 1 1 1 1 1 1 1</div><input id='attrs-aee68113-bc3d-4b7b-ba3c-6803d559d4c6' class='xr-var-attrs-in' type='checkbox' disabled><label for='attrs-aee68113-bc3d-4b7b-ba3c-6803d559d4c6' title='Show/Hide attributes'><svg class='icon xr-icon-file-text2'><use xlink:href='#icon-file-text2'></use></svg></label><input id='data-cfbbe585-9f0b-4c13-8553-fcaad31809e5' class='xr-var-data-in' type='checkbox'><label for='data-cfbbe585-9f0b-4c13-8553-fcaad31809e5' title='Show/Hide data repr'><svg class='icon xr-icon-database'><use xlink:href='#icon-database'></use></svg></label><div class='xr-var-attrs'><dl class='xr-attrs'></dl></div><div class='xr-var-data'><pre>array([[[1, 1, 1, ..., 1, 1, 1],\n",
       "        [1, 1, 1, ..., 1, 1, 1],\n",
       "        [1, 1, 1, ..., 1, 1, 1],\n",
       "        ...,\n",
       "        [1, 1, 1, ..., 1, 1, 1],\n",
       "        [1, 1, 1, ..., 1, 1, 1],\n",
       "        [1, 1, 1, ..., 1, 1, 1]]])</pre></div></li><li class='xr-var-item'><div class='xr-var-name'><span>monitoringTemp</span></div><div class='xr-var-dims'>(finalForkLength_bins, monitoringPoints, historyLength)</div><div class='xr-var-dtype'>int64</div><div class='xr-var-preview xr-preview'>1 1 1 1 1 1 1 1 ... 1 1 1 1 1 1 1 1</div><input id='attrs-d5b5e8f7-61e6-40dd-8773-ab504b9f6917' class='xr-var-attrs-in' type='checkbox' disabled><label for='attrs-d5b5e8f7-61e6-40dd-8773-ab504b9f6917' title='Show/Hide attributes'><svg class='icon xr-icon-file-text2'><use xlink:href='#icon-file-text2'></use></svg></label><input id='data-dd2c2b1c-4714-466e-be38-0f93b96ad5e2' class='xr-var-data-in' type='checkbox'><label for='data-dd2c2b1c-4714-466e-be38-0f93b96ad5e2' title='Show/Hide data repr'><svg class='icon xr-icon-database'><use xlink:href='#icon-database'></use></svg></label><div class='xr-var-attrs'><dl class='xr-attrs'></dl></div><div class='xr-var-data'><pre>array([[[1, 1, 1, ..., 1, 1, 1],\n",
       "        [1, 1, 1, ..., 1, 1, 1],\n",
       "        [1, 1, 1, ..., 1, 1, 1],\n",
       "        ...,\n",
       "        [1, 1, 1, ..., 1, 1, 1],\n",
       "        [1, 1, 1, ..., 1, 1, 1],\n",
       "        [1, 1, 1, ..., 1, 1, 1]]])</pre></div></li><li class='xr-var-item'><div class='xr-var-name'><span>monitoringPointIDs</span></div><div class='xr-var-dims'>(finalForkLength_bins, monitoringPoints)</div><div class='xr-var-dtype'>int64</div><div class='xr-var-preview xr-preview'>1 1 1 1 1 1 1 1 ... 1 1 1 1 1 1 1 1</div><input id='attrs-1c1542e8-3b48-4910-9380-4c59b4ea307e' class='xr-var-attrs-in' type='checkbox' disabled><label for='attrs-1c1542e8-3b48-4910-9380-4c59b4ea307e' title='Show/Hide attributes'><svg class='icon xr-icon-file-text2'><use xlink:href='#icon-file-text2'></use></svg></label><input id='data-21b5c638-4220-4026-b131-27ee253f8fda' class='xr-var-data-in' type='checkbox'><label for='data-21b5c638-4220-4026-b131-27ee253f8fda' title='Show/Hide data repr'><svg class='icon xr-icon-database'><use xlink:href='#icon-database'></use></svg></label><div class='xr-var-attrs'><dl class='xr-attrs'></dl></div><div class='xr-var-data'><pre>array([[1, 1, 1, 1, 1, 1, 1, 1, 1, 1, 1, 1, 1, 1, 1, 1, 1, 1, 1, 1, 1, 1,\n",
       "        1, 1, 1, 1, 1, 1, 1, 1, 1, 1, 1, 1, 1, 1, 1, 1, 1, 1, 1, 1, 1, 1,\n",
       "        1, 1, 1, 1, 1, 1, 1, 1, 1, 1, 1, 1, 1, 1, 1, 1, 1, 1, 1, 1, 1, 1,\n",
       "        1, 1, 1, 1, 1, 1, 1, 1, 1, 1, 1, 1, 1, 1, 1, 1, 1, 1, 1, 1, 1, 1,\n",
       "        1, 1, 1, 1, 1, 1, 1, 1, 1, 1, 1, 1, 1, 1, 1, 1, 1, 1, 1, 1, 1, 1,\n",
       "        1, 1, 1, 1, 1, 1, 1, 1, 1, 1, 1, 1, 1, 1, 1, 1, 1, 1, 1, 1, 1, 1,\n",
       "        1, 1, 1, 1, 1, 1, 1, 1, 1, 1, 1, 1, 1, 1, 1, 1, 1, 1, 1, 1, 1, 1,\n",
       "        1, 1, 1, 1, 1, 1, 1, 1, 1, 1, 1, 1, 1, 1, 1, 1, 1, 1, 1, 1, 1, 1,\n",
       "        1, 1, 1, 1, 1, 1, 1, 1, 1, 1, 1, 1, 1, 1, 1, 1, 1, 1, 1, 1, 1, 1,\n",
       "        1, 1, 1, 1, 1, 1, 1, 1, 1, 1, 1, 1, 1, 1, 1, 1, 1, 1, 1, 1, 1, 1,\n",
       "        1, 1, 1, 1, 1, 1, 1, 1, 1, 1, 1, 1, 1, 1, 1, 1, 1, 1, 1, 1, 1, 1,\n",
       "        1, 1, 1, 1, 1, 1, 1, 1, 1, 1, 1, 1, 1, 1, 1, 1, 1, 1, 1, 1, 1, 1,\n",
       "        1, 1, 1, 1, 1, 1, 1, 1, 1, 1, 1, 1, 1, 1, 1, 1, 1]])</pre></div></li></ul></div></li><li class='xr-section-item'><input id='section-6cf5efd3-1108-4683-9ff0-98684b17b9e4' class='xr-section-summary-in' type='checkbox'  ><label for='section-6cf5efd3-1108-4683-9ff0-98684b17b9e4' class='xr-section-summary' >Indexes: <span>(1)</span></label><div class='xr-section-inline-details'></div><div class='xr-section-details'><ul class='xr-var-list'><li class='xr-var-item'><div class='xr-index-name'><div>finalForkLength_bins</div></div><div class='xr-index-preview'>PandasIndex</div><div></div><input id='index-89dd7bcd-d530-4d14-a83e-16775de0fae8' class='xr-index-data-in' type='checkbox'/><label for='index-89dd7bcd-d530-4d14-a83e-16775de0fae8' title='Show/Hide index repr'><svg class='icon xr-icon-database'><use xlink:href='#icon-database'></use></svg></label><div class='xr-index-data'><pre>PandasIndex(IntervalIndex([(75, 85]], dtype=&#x27;interval[int64, right]&#x27;, name=&#x27;finalForkLength_bins&#x27;))</pre></div></li></ul></div></li><li class='xr-section-item'><input id='section-3990a91f-a6ad-4550-870a-4a4ec58e2aea' class='xr-section-summary-in' type='checkbox' disabled ><label for='section-3990a91f-a6ad-4550-870a-4a4ec58e2aea' class='xr-section-summary'  title='Expand/collapse section'>Attributes: <span>(0)</span></label><div class='xr-section-inline-details'></div><div class='xr-section-details'><dl class='xr-attrs'></dl></div></li></ul></div></div>"
      ],
      "text/plain": [
       "<xarray.Dataset>\n",
       "Dimensions:               (finalForkLength_bins: 1, monitoringPoints: 281,\n",
       "                           historyLength: 3984)\n",
       "Coordinates:\n",
       "  * finalForkLength_bins  (finalForkLength_bins) object (75, 85]\n",
       "Dimensions without coordinates: monitoringPoints, historyLength\n",
       "Data variables:\n",
       "    recruitTime           (finalForkLength_bins) int64 2583\n",
       "    exitTime              (finalForkLength_bins) int64 2583\n",
       "    entryForkLength       (finalForkLength_bins) int64 2583\n",
       "    entryMass             (finalForkLength_bins) int64 2583\n",
       "    finalForkLength       (finalForkLength_bins) int64 2583\n",
       "    finalMass             (finalForkLength_bins) int64 2583\n",
       "    finalStatus           (finalForkLength_bins) int64 2583\n",
       "    monitoringPopulation  (finalForkLength_bins, monitoringPoints, historyLength) int64 ...\n",
       "    monitoringDepth       (finalForkLength_bins, monitoringPoints, historyLength) int64 ...\n",
       "    monitoringTemp        (finalForkLength_bins, monitoringPoints, historyLength) int64 ...\n",
       "    monitoringPointIDs    (finalForkLength_bins, monitoringPoints) int64 1 ... 1"
      ]
     },
     "execution_count": 19,
     "metadata": {},
     "output_type": "execute_result"
    }
   ],
   "source": [
    "fl_bins = [75, 85]\n",
    "dsx2.groupby_bins(dsx2.finalForkLength, fl_bins).count()"
   ]
  },
  {
   "cell_type": "code",
   "execution_count": null,
   "metadata": {},
   "outputs": [],
   "source": [
    "graph = np.histogram(np.array(dsx2.finalForkLength).astype(int), [15, 25, 35, 45, 55, 65, 75, 85, 95, 105, 115, 125])"
   ]
  },
  {
   "cell_type": "code",
   "execution_count": null,
   "metadata": {},
   "outputs": [],
   "source": []
  },
  {
   "cell_type": "code",
   "execution_count": 207,
   "metadata": {},
   "outputs": [
    {
     "data": {
      "text/plain": [
       "<function matplotlib.pyplot.show(close=None, block=None)>"
      ]
     },
     "execution_count": 207,
     "metadata": {},
     "output_type": "execute_result"
    },
    {
     "data": {
      "image/png": "[encoded data removed]",
      "text/plain": [
       "<Figure size 640x480 with 1 Axes>"
      ]
     },
     "metadata": {},
     "output_type": "display_data"
    }
   ],
   "source": [
    "plt.hist(np.array(ds.variables['finalForkLength']).astype(int), [x for x in range(15, 100, 5)], color=\"salmon\", edgecolor=\"black\")\n",
    "plt.yscale('log')\n",
    "plt.show"
   ]
  },
  {
   "cell_type": "code",
   "execution_count": null,
   "metadata": {},
   "outputs": [],
   "source": [
    "plt.hist(np.array(dsx2.finalForkLength).astype(int), [x for x in range(15, 100, 5)])\n",
    "plt.yscale('log')\n",
    "plt.show"
   ]
  },
  {
   "cell_type": "code",
   "execution_count": null,
   "metadata": {},
   "outputs": [],
   "source": []
  },
  {
   "cell_type": "code",
   "execution_count": 149,
   "metadata": {},
   "outputs": [
    {
     "data": {
      "text/html": [
       "<div>\n",
       "<style scoped>\n",
       "    .dataframe tbody tr th:only-of-type {\n",
       "        vertical-align: middle;\n",
       "    }\n",
       "\n",
       "    .dataframe tbody tr th {\n",
       "        vertical-align: top;\n",
       "    }\n",
       "\n",
       "    .dataframe thead th {\n",
       "        text-align: right;\n",
       "    }\n",
       "</style>\n",
       "<table border=\"1\" class=\"dataframe\">\n",
       "  <thead>\n",
       "    <tr style=\"text-align: right;\">\n",
       "      <th></th>\n",
       "      <th>sampleSiteID</th>\n",
       "      <th>sampleTime</th>\n",
       "      <th>samplePop</th>\n",
       "      <th>sampleMeanMass</th>\n",
       "      <th>sampleMeanLength</th>\n",
       "      <th>sampleMeanSpawnTime</th>\n",
       "    </tr>\n",
       "    <tr>\n",
       "      <th>sampleHistoryLength</th>\n",
       "      <th></th>\n",
       "      <th></th>\n",
       "      <th></th>\n",
       "      <th></th>\n",
       "      <th></th>\n",
       "      <th></th>\n",
       "    </tr>\n",
       "  </thead>\n",
       "  <tbody>\n",
       "    <tr>\n",
       "      <th>0</th>\n",
       "      <td>0</td>\n",
       "      <td>12</td>\n",
       "      <td>0</td>\n",
       "      <td>0.0</td>\n",
       "      <td>0.0</td>\n",
       "      <td>0.0</td>\n",
       "    </tr>\n",
       "    <tr>\n",
       "      <th>1</th>\n",
       "      <td>1</td>\n",
       "      <td>12</td>\n",
       "      <td>0</td>\n",
       "      <td>0.0</td>\n",
       "      <td>0.0</td>\n",
       "      <td>0.0</td>\n",
       "    </tr>\n",
       "    <tr>\n",
       "      <th>2</th>\n",
       "      <td>2</td>\n",
       "      <td>12</td>\n",
       "      <td>0</td>\n",
       "      <td>0.0</td>\n",
       "      <td>0.0</td>\n",
       "      <td>0.0</td>\n",
       "    </tr>\n",
       "    <tr>\n",
       "      <th>3</th>\n",
       "      <td>3</td>\n",
       "      <td>12</td>\n",
       "      <td>0</td>\n",
       "      <td>0.0</td>\n",
       "      <td>0.0</td>\n",
       "      <td>0.0</td>\n",
       "    </tr>\n",
       "    <tr>\n",
       "      <th>4</th>\n",
       "      <td>4</td>\n",
       "      <td>12</td>\n",
       "      <td>0</td>\n",
       "      <td>0.0</td>\n",
       "      <td>0.0</td>\n",
       "      <td>0.0</td>\n",
       "    </tr>\n",
       "    <tr>\n",
       "      <th>...</th>\n",
       "      <td>...</td>\n",
       "      <td>...</td>\n",
       "      <td>...</td>\n",
       "      <td>...</td>\n",
       "      <td>...</td>\n",
       "      <td>...</td>\n",
       "    </tr>\n",
       "    <tr>\n",
       "      <th>408523</th>\n",
       "      <td>34039</td>\n",
       "      <td>3708</td>\n",
       "      <td>0</td>\n",
       "      <td>0.0</td>\n",
       "      <td>0.0</td>\n",
       "      <td>0.0</td>\n",
       "    </tr>\n",
       "    <tr>\n",
       "      <th>408524</th>\n",
       "      <td>34040</td>\n",
       "      <td>3708</td>\n",
       "      <td>0</td>\n",
       "      <td>0.0</td>\n",
       "      <td>0.0</td>\n",
       "      <td>0.0</td>\n",
       "    </tr>\n",
       "    <tr>\n",
       "      <th>408525</th>\n",
       "      <td>34041</td>\n",
       "      <td>3708</td>\n",
       "      <td>0</td>\n",
       "      <td>0.0</td>\n",
       "      <td>0.0</td>\n",
       "      <td>0.0</td>\n",
       "    </tr>\n",
       "    <tr>\n",
       "      <th>408526</th>\n",
       "      <td>34042</td>\n",
       "      <td>3708</td>\n",
       "      <td>0</td>\n",
       "      <td>0.0</td>\n",
       "      <td>0.0</td>\n",
       "      <td>0.0</td>\n",
       "    </tr>\n",
       "    <tr>\n",
       "      <th>408527</th>\n",
       "      <td>34043</td>\n",
       "      <td>3708</td>\n",
       "      <td>0</td>\n",
       "      <td>0.0</td>\n",
       "      <td>0.0</td>\n",
       "      <td>0.0</td>\n",
       "    </tr>\n",
       "  </tbody>\n",
       "</table>\n",
       "<p>408528 rows × 6 columns</p>\n",
       "</div>"
      ],
      "text/plain": [
       "                     sampleSiteID  sampleTime  samplePop  sampleMeanMass  \\\n",
       "sampleHistoryLength                                                        \n",
       "0                               0          12          0             0.0   \n",
       "1                               1          12          0             0.0   \n",
       "2                               2          12          0             0.0   \n",
       "3                               3          12          0             0.0   \n",
       "4                               4          12          0             0.0   \n",
       "...                           ...         ...        ...             ...   \n",
       "408523                      34039        3708          0             0.0   \n",
       "408524                      34040        3708          0             0.0   \n",
       "408525                      34041        3708          0             0.0   \n",
       "408526                      34042        3708          0             0.0   \n",
       "408527                      34043        3708          0             0.0   \n",
       "\n",
       "                     sampleMeanLength  sampleMeanSpawnTime  \n",
       "sampleHistoryLength                                         \n",
       "0                                 0.0                  0.0  \n",
       "1                                 0.0                  0.0  \n",
       "2                                 0.0                  0.0  \n",
       "3                                 0.0                  0.0  \n",
       "4                                 0.0                  0.0  \n",
       "...                               ...                  ...  \n",
       "408523                            0.0                  0.0  \n",
       "408524                            0.0                  0.0  \n",
       "408525                            0.0                  0.0  \n",
       "408526                            0.0                  0.0  \n",
       "408527                            0.0                  0.0  \n",
       "\n",
       "[408528 rows x 6 columns]"
      ]
     },
     "execution_count": 149,
     "metadata": {},
     "output_type": "execute_result"
    }
   ],
   "source": [
    "df"
   ]
  },
  {
   "cell_type": "code",
   "execution_count": 152,
   "metadata": {},
   "outputs": [],
   "source": [
    "nodes = pd.read_csv('data/sampling_nodes.csv')"
   ]
  },
  {
   "cell_type": "code",
   "execution_count": 169,
   "metadata": {},
   "outputs": [
    {
     "data": {
      "text/plain": [
       "array(['Grain of Sand', 'FWP New Site', 'Browns Sl Barrow Ch',\n",
       "       'Browns Sl Diked Side', 'Ika Lower', 'Tom Moore', 'Ika Upper',\n",
       "       'Cattail Saltmarsh', 'DW Reference E Blind',\n",
       "       'Swin Ch Old Bridge Blind', 'Hall Sl Trib'], dtype=object)"
      ]
     },
     "execution_count": 169,
     "metadata": {},
     "output_type": "execute_result"
    }
   ],
   "source": [
    "nodes['Name'].unique()"
   ]
  },
  {
   "cell_type": "code",
   "execution_count": 182,
   "metadata": {},
   "outputs": [
    {
     "data": {
      "text/plain": [
       "Index(['Name', ' Node ID', ' Area (m^2)'], dtype='object')"
      ]
     },
     "execution_count": 182,
     "metadata": {},
     "output_type": "execute_result"
    }
   ],
   "source": [
    "nodes.keys()"
   ]
  },
  {
   "cell_type": "code",
   "execution_count": 236,
   "metadata": {},
   "outputs": [
    {
     "name": "stdout",
     "output_type": "stream",
     "text": [
      "Site Name                      m^2    nodes     ∑pop\n",
      "========================    ======   ======   ======\n",
      "Grain of Sand                 2381      132        0\n",
      "FWP New Site                   123       36        0\n",
      "Browns Sl Barrow Ch           1337      948        0\n",
      "Browns Sl Diked Side           444       12        0\n",
      "Ika Lower                      304      108        0\n",
      "Tom Moore                      514      468        0\n",
      "Ika Upper                    55744      936        0\n",
      "Cattail Saltmarsh             1378      180        0\n",
      "DW Reference E Blind          2045     1020        0\n",
      "Swin Ch Old Bridge Blind       503       96        0\n",
      "Hall Sl Trib                   201      204        0\n"
     ]
    }
   ],
   "source": [
    "print(f'{\"Site Name\" :25} {\"m^2\" :>8} {\"nodes\" :>8} {\"∑pop\" :>8}')\n",
    "print('========================    ======   ======   ======')\n",
    "for nodeName in nodes['Name'].unique():\n",
    "    nodeIDs = [x for x in nodes[nodes.Name == nodeName][' Node ID']]\n",
    "    print(f'{nodeName :25} {str(sum(nodes[nodes[' Node ID'].isin(nodeIDs)][' Area (m^2)'])) :>8} {str(len(df[df['sampleSiteID'].isin(nodeIDs)])) :>8} {str(sum(df[df['sampleSiteID'].isin(nodeIDs)]['samplePop'])) :>8}')"
   ]
  },
  {
   "cell_type": "code",
   "execution_count": 273,
   "metadata": {},
   "outputs": [
    {
     "data": {
      "text/html": [
       "<div>\n",
       "<style scoped>\n",
       "    .dataframe tbody tr th:only-of-type {\n",
       "        vertical-align: middle;\n",
       "    }\n",
       "\n",
       "    .dataframe tbody tr th {\n",
       "        vertical-align: top;\n",
       "    }\n",
       "\n",
       "    .dataframe thead th {\n",
       "        text-align: right;\n",
       "    }\n",
       "</style>\n",
       "<table border=\"1\" class=\"dataframe\">\n",
       "  <thead>\n",
       "    <tr style=\"text-align: right;\">\n",
       "      <th></th>\n",
       "      <th>sampleSiteID</th>\n",
       "      <th>sampleTime</th>\n",
       "      <th>samplePop</th>\n",
       "      <th>sampleMeanMass</th>\n",
       "      <th>sampleMeanLength</th>\n",
       "      <th>sampleMeanSpawnTime</th>\n",
       "    </tr>\n",
       "    <tr>\n",
       "      <th>sampleHistoryLength</th>\n",
       "      <th></th>\n",
       "      <th></th>\n",
       "      <th></th>\n",
       "      <th></th>\n",
       "      <th></th>\n",
       "      <th></th>\n",
       "    </tr>\n",
       "  </thead>\n",
       "  <tbody>\n",
       "    <tr>\n",
       "      <th>1025</th>\n",
       "      <td>1025</td>\n",
       "      <td>12</td>\n",
       "      <td>7</td>\n",
       "      <td>1.047395</td>\n",
       "      <td>48.156700</td>\n",
       "      <td>0.857143</td>\n",
       "    </tr>\n",
       "    <tr>\n",
       "      <th>1026</th>\n",
       "      <td>1026</td>\n",
       "      <td>12</td>\n",
       "      <td>4</td>\n",
       "      <td>1.250425</td>\n",
       "      <td>51.620960</td>\n",
       "      <td>1.000000</td>\n",
       "    </tr>\n",
       "    <tr>\n",
       "      <th>1031</th>\n",
       "      <td>1031</td>\n",
       "      <td>12</td>\n",
       "      <td>8</td>\n",
       "      <td>1.079311</td>\n",
       "      <td>47.987572</td>\n",
       "      <td>1.000000</td>\n",
       "    </tr>\n",
       "    <tr>\n",
       "      <th>1032</th>\n",
       "      <td>1032</td>\n",
       "      <td>12</td>\n",
       "      <td>4</td>\n",
       "      <td>1.189750</td>\n",
       "      <td>48.450512</td>\n",
       "      <td>2.500000</td>\n",
       "    </tr>\n",
       "    <tr>\n",
       "      <th>1034</th>\n",
       "      <td>1034</td>\n",
       "      <td>12</td>\n",
       "      <td>4</td>\n",
       "      <td>1.120545</td>\n",
       "      <td>48.452419</td>\n",
       "      <td>0.500000</td>\n",
       "    </tr>\n",
       "    <tr>\n",
       "      <th>...</th>\n",
       "      <td>...</td>\n",
       "      <td>...</td>\n",
       "      <td>...</td>\n",
       "      <td>...</td>\n",
       "      <td>...</td>\n",
       "      <td>...</td>\n",
       "    </tr>\n",
       "    <tr>\n",
       "      <th>375532</th>\n",
       "      <td>1048</td>\n",
       "      <td>3708</td>\n",
       "      <td>664032</td>\n",
       "      <td>0.472228</td>\n",
       "      <td>36.552303</td>\n",
       "      <td>2311.418945</td>\n",
       "    </tr>\n",
       "    <tr>\n",
       "      <th>375533</th>\n",
       "      <td>1049</td>\n",
       "      <td>3708</td>\n",
       "      <td>718494</td>\n",
       "      <td>0.463795</td>\n",
       "      <td>36.365662</td>\n",
       "      <td>2278.467773</td>\n",
       "    </tr>\n",
       "    <tr>\n",
       "      <th>375537</th>\n",
       "      <td>1053</td>\n",
       "      <td>3708</td>\n",
       "      <td>11</td>\n",
       "      <td>0.252241</td>\n",
       "      <td>31.180870</td>\n",
       "      <td>1785.363647</td>\n",
       "    </tr>\n",
       "    <tr>\n",
       "      <th>375539</th>\n",
       "      <td>1055</td>\n",
       "      <td>3708</td>\n",
       "      <td>9306</td>\n",
       "      <td>0.390933</td>\n",
       "      <td>35.173481</td>\n",
       "      <td>2308.788086</td>\n",
       "    </tr>\n",
       "    <tr>\n",
       "      <th>375548</th>\n",
       "      <td>1064</td>\n",
       "      <td>3708</td>\n",
       "      <td>3</td>\n",
       "      <td>0.264856</td>\n",
       "      <td>32.960003</td>\n",
       "      <td>2291.333252</td>\n",
       "    </tr>\n",
       "  </tbody>\n",
       "</table>\n",
       "<p>116 rows × 6 columns</p>\n",
       "</div>"
      ],
      "text/plain": [
       "                     sampleSiteID  sampleTime  samplePop  sampleMeanMass  \\\n",
       "sampleHistoryLength                                                        \n",
       "1025                         1025          12          7        1.047395   \n",
       "1026                         1026          12          4        1.250425   \n",
       "1031                         1031          12          8        1.079311   \n",
       "1032                         1032          12          4        1.189750   \n",
       "1034                         1034          12          4        1.120545   \n",
       "...                           ...         ...        ...             ...   \n",
       "375532                       1048        3708     664032        0.472228   \n",
       "375533                       1049        3708     718494        0.463795   \n",
       "375537                       1053        3708         11        0.252241   \n",
       "375539                       1055        3708       9306        0.390933   \n",
       "375548                       1064        3708          3        0.264856   \n",
       "\n",
       "                     sampleMeanLength  sampleMeanSpawnTime  \n",
       "sampleHistoryLength                                         \n",
       "1025                        48.156700             0.857143  \n",
       "1026                        51.620960             1.000000  \n",
       "1031                        47.987572             1.000000  \n",
       "1032                        48.450512             2.500000  \n",
       "1034                        48.452419             0.500000  \n",
       "...                               ...                  ...  \n",
       "375532                      36.552303          2311.418945  \n",
       "375533                      36.365662          2278.467773  \n",
       "375537                      31.180870          1785.363647  \n",
       "375539                      35.173481          2308.788086  \n",
       "375548                      32.960003          2291.333252  \n",
       "\n",
       "[116 rows x 6 columns]"
      ]
     },
     "execution_count": 273,
     "metadata": {},
     "output_type": "execute_result"
    }
   ],
   "source": [
    "df[df.samplePop > 2]"
   ]
  },
  {
   "cell_type": "code",
   "execution_count": 246,
   "metadata": {},
   "outputs": [
    {
     "data": {
      "text/plain": [
       "6024388"
      ]
     },
     "execution_count": 246,
     "metadata": {},
     "output_type": "execute_result"
    }
   ],
   "source": [
    "sum(df[df.sampleSiteID == 1049].samplePop)"
   ]
  },
  {
   "cell_type": "code",
   "execution_count": 241,
   "metadata": {},
   "outputs": [
    {
     "data": {
      "text/plain": [
       "0            0\n",
       "1            1\n",
       "2            2\n",
       "3            3\n",
       "4            4\n",
       "         ...  \n",
       "34039    34039\n",
       "34040    34040\n",
       "34041    34041\n",
       "34042    34042\n",
       "34043    34043\n",
       "Name: sampleSiteID, Length: 34044, dtype: int32"
      ]
     },
     "execution_count": 241,
     "metadata": {},
     "output_type": "execute_result"
    }
   ],
   "source": [
    "df.sampleSiteID.mode()"
   ]
  },
  {
   "cell_type": "code",
   "execution_count": 271,
   "metadata": {},
   "outputs": [
    {
     "data": {
      "text/html": [
       "<div>\n",
       "<style scoped>\n",
       "    .dataframe tbody tr th:only-of-type {\n",
       "        vertical-align: middle;\n",
       "    }\n",
       "\n",
       "    .dataframe tbody tr th {\n",
       "        vertical-align: top;\n",
       "    }\n",
       "\n",
       "    .dataframe thead th {\n",
       "        text-align: right;\n",
       "    }\n",
       "</style>\n",
       "<table border=\"1\" class=\"dataframe\">\n",
       "  <thead>\n",
       "    <tr style=\"text-align: right;\">\n",
       "      <th></th>\n",
       "      <th>sampleSiteID</th>\n",
       "      <th>sampleTime</th>\n",
       "      <th>samplePop</th>\n",
       "      <th>sampleMeanMass</th>\n",
       "      <th>sampleMeanLength</th>\n",
       "      <th>sampleMeanSpawnTime</th>\n",
       "    </tr>\n",
       "    <tr>\n",
       "      <th>sampleHistoryLength</th>\n",
       "      <th></th>\n",
       "      <th></th>\n",
       "      <th></th>\n",
       "      <th></th>\n",
       "      <th></th>\n",
       "      <th></th>\n",
       "    </tr>\n",
       "  </thead>\n",
       "  <tbody>\n",
       "    <tr>\n",
       "      <th>1013</th>\n",
       "      <td>1013</td>\n",
       "      <td>12</td>\n",
       "      <td>0</td>\n",
       "      <td>0.0</td>\n",
       "      <td>0.0</td>\n",
       "      <td>0.0</td>\n",
       "    </tr>\n",
       "    <tr>\n",
       "      <th>4481</th>\n",
       "      <td>4481</td>\n",
       "      <td>12</td>\n",
       "      <td>0</td>\n",
       "      <td>0.0</td>\n",
       "      <td>0.0</td>\n",
       "      <td>0.0</td>\n",
       "    </tr>\n",
       "    <tr>\n",
       "      <th>4952</th>\n",
       "      <td>4952</td>\n",
       "      <td>12</td>\n",
       "      <td>0</td>\n",
       "      <td>0.0</td>\n",
       "      <td>0.0</td>\n",
       "      <td>0.0</td>\n",
       "    </tr>\n",
       "    <tr>\n",
       "      <th>5385</th>\n",
       "      <td>5385</td>\n",
       "      <td>12</td>\n",
       "      <td>0</td>\n",
       "      <td>0.0</td>\n",
       "      <td>0.0</td>\n",
       "      <td>0.0</td>\n",
       "    </tr>\n",
       "    <tr>\n",
       "      <th>5386</th>\n",
       "      <td>5386</td>\n",
       "      <td>12</td>\n",
       "      <td>0</td>\n",
       "      <td>0.0</td>\n",
       "      <td>0.0</td>\n",
       "      <td>0.0</td>\n",
       "    </tr>\n",
       "    <tr>\n",
       "      <th>...</th>\n",
       "      <td>...</td>\n",
       "      <td>...</td>\n",
       "      <td>...</td>\n",
       "      <td>...</td>\n",
       "      <td>...</td>\n",
       "      <td>...</td>\n",
       "    </tr>\n",
       "    <tr>\n",
       "      <th>399509</th>\n",
       "      <td>25025</td>\n",
       "      <td>3708</td>\n",
       "      <td>0</td>\n",
       "      <td>0.0</td>\n",
       "      <td>0.0</td>\n",
       "      <td>0.0</td>\n",
       "    </tr>\n",
       "    <tr>\n",
       "      <th>399842</th>\n",
       "      <td>25358</td>\n",
       "      <td>3708</td>\n",
       "      <td>0</td>\n",
       "      <td>0.0</td>\n",
       "      <td>0.0</td>\n",
       "      <td>0.0</td>\n",
       "    </tr>\n",
       "    <tr>\n",
       "      <th>400067</th>\n",
       "      <td>25583</td>\n",
       "      <td>3708</td>\n",
       "      <td>0</td>\n",
       "      <td>0.0</td>\n",
       "      <td>0.0</td>\n",
       "      <td>0.0</td>\n",
       "    </tr>\n",
       "    <tr>\n",
       "      <th>400105</th>\n",
       "      <td>25621</td>\n",
       "      <td>3708</td>\n",
       "      <td>0</td>\n",
       "      <td>0.0</td>\n",
       "      <td>0.0</td>\n",
       "      <td>0.0</td>\n",
       "    </tr>\n",
       "    <tr>\n",
       "      <th>400109</th>\n",
       "      <td>25625</td>\n",
       "      <td>3708</td>\n",
       "      <td>0</td>\n",
       "      <td>0.0</td>\n",
       "      <td>0.0</td>\n",
       "      <td>0.0</td>\n",
       "    </tr>\n",
       "  </tbody>\n",
       "</table>\n",
       "<p>936 rows × 6 columns</p>\n",
       "</div>"
      ],
      "text/plain": [
       "                     sampleSiteID  sampleTime  samplePop  sampleMeanMass  \\\n",
       "sampleHistoryLength                                                        \n",
       "1013                         1013          12          0             0.0   \n",
       "4481                         4481          12          0             0.0   \n",
       "4952                         4952          12          0             0.0   \n",
       "5385                         5385          12          0             0.0   \n",
       "5386                         5386          12          0             0.0   \n",
       "...                           ...         ...        ...             ...   \n",
       "399509                      25025        3708          0             0.0   \n",
       "399842                      25358        3708          0             0.0   \n",
       "400067                      25583        3708          0             0.0   \n",
       "400105                      25621        3708          0             0.0   \n",
       "400109                      25625        3708          0             0.0   \n",
       "\n",
       "                     sampleMeanLength  sampleMeanSpawnTime  \n",
       "sampleHistoryLength                                         \n",
       "1013                              0.0                  0.0  \n",
       "4481                              0.0                  0.0  \n",
       "4952                              0.0                  0.0  \n",
       "5385                              0.0                  0.0  \n",
       "5386                              0.0                  0.0  \n",
       "...                               ...                  ...  \n",
       "399509                            0.0                  0.0  \n",
       "399842                            0.0                  0.0  \n",
       "400067                            0.0                  0.0  \n",
       "400105                            0.0                  0.0  \n",
       "400109                            0.0                  0.0  \n",
       "\n",
       "[936 rows x 6 columns]"
      ]
     },
     "execution_count": 271,
     "metadata": {},
     "output_type": "execute_result"
    }
   ],
   "source": [
    "nodeIDs = [x for x in nodes[nodes.Name == 'Ika Upper'][' Node ID']]\n",
    "df[(df.sampleSiteID.isin(nodeIDs))]"
   ]
  },
  {
   "cell_type": "code",
   "execution_count": 243,
   "metadata": {},
   "outputs": [
    {
     "data": {
      "text/html": [
       "<div>\n",
       "<style scoped>\n",
       "    .dataframe tbody tr th:only-of-type {\n",
       "        vertical-align: middle;\n",
       "    }\n",
       "\n",
       "    .dataframe tbody tr th {\n",
       "        vertical-align: top;\n",
       "    }\n",
       "\n",
       "    .dataframe thead th {\n",
       "        text-align: right;\n",
       "    }\n",
       "</style>\n",
       "<table border=\"1\" class=\"dataframe\">\n",
       "  <thead>\n",
       "    <tr style=\"text-align: right;\">\n",
       "      <th></th>\n",
       "      <th>sampleSiteID</th>\n",
       "      <th>sampleTime</th>\n",
       "      <th>samplePop</th>\n",
       "      <th>sampleMeanMass</th>\n",
       "      <th>sampleMeanLength</th>\n",
       "      <th>sampleMeanSpawnTime</th>\n",
       "    </tr>\n",
       "    <tr>\n",
       "      <th>sampleHistoryLength</th>\n",
       "      <th></th>\n",
       "      <th></th>\n",
       "      <th></th>\n",
       "      <th></th>\n",
       "      <th></th>\n",
       "      <th></th>\n",
       "    </tr>\n",
       "  </thead>\n",
       "  <tbody>\n",
       "    <tr>\n",
       "      <th>69129</th>\n",
       "      <td>1041</td>\n",
       "      <td>684</td>\n",
       "      <td>902194</td>\n",
       "      <td>0.925659</td>\n",
       "      <td>46.157269</td>\n",
       "      <td>341.262299</td>\n",
       "    </tr>\n",
       "    <tr>\n",
       "      <th>69136</th>\n",
       "      <td>1048</td>\n",
       "      <td>684</td>\n",
       "      <td>902122</td>\n",
       "      <td>0.925092</td>\n",
       "      <td>46.151157</td>\n",
       "      <td>341.413300</td>\n",
       "    </tr>\n",
       "    <tr>\n",
       "      <th>69137</th>\n",
       "      <td>1049</td>\n",
       "      <td>684</td>\n",
       "      <td>919900</td>\n",
       "      <td>0.933642</td>\n",
       "      <td>46.285336</td>\n",
       "      <td>338.323700</td>\n",
       "    </tr>\n",
       "    <tr>\n",
       "      <th>103173</th>\n",
       "      <td>1041</td>\n",
       "      <td>1020</td>\n",
       "      <td>1209042</td>\n",
       "      <td>0.851617</td>\n",
       "      <td>44.979012</td>\n",
       "      <td>477.487579</td>\n",
       "    </tr>\n",
       "    <tr>\n",
       "      <th>103180</th>\n",
       "      <td>1048</td>\n",
       "      <td>1020</td>\n",
       "      <td>1207075</td>\n",
       "      <td>0.851547</td>\n",
       "      <td>44.979473</td>\n",
       "      <td>478.736969</td>\n",
       "    </tr>\n",
       "    <tr>\n",
       "      <th>103181</th>\n",
       "      <td>1049</td>\n",
       "      <td>1020</td>\n",
       "      <td>1232247</td>\n",
       "      <td>0.862417</td>\n",
       "      <td>45.163395</td>\n",
       "      <td>473.769287</td>\n",
       "    </tr>\n",
       "    <tr>\n",
       "      <th>307437</th>\n",
       "      <td>1041</td>\n",
       "      <td>3036</td>\n",
       "      <td>624727</td>\n",
       "      <td>0.681850</td>\n",
       "      <td>41.486202</td>\n",
       "      <td>2203.027588</td>\n",
       "    </tr>\n",
       "    <tr>\n",
       "      <th>307445</th>\n",
       "      <td>1049</td>\n",
       "      <td>3036</td>\n",
       "      <td>654694</td>\n",
       "      <td>0.677866</td>\n",
       "      <td>41.434814</td>\n",
       "      <td>2188.512451</td>\n",
       "    </tr>\n",
       "    <tr>\n",
       "      <th>341481</th>\n",
       "      <td>1041</td>\n",
       "      <td>3372</td>\n",
       "      <td>662227</td>\n",
       "      <td>0.563525</td>\n",
       "      <td>38.955555</td>\n",
       "      <td>2258.838379</td>\n",
       "    </tr>\n",
       "    <tr>\n",
       "      <th>341488</th>\n",
       "      <td>1048</td>\n",
       "      <td>3372</td>\n",
       "      <td>648497</td>\n",
       "      <td>0.568825</td>\n",
       "      <td>39.083633</td>\n",
       "      <td>2275.476807</td>\n",
       "    </tr>\n",
       "    <tr>\n",
       "      <th>341489</th>\n",
       "      <td>1049</td>\n",
       "      <td>3372</td>\n",
       "      <td>695363</td>\n",
       "      <td>0.559498</td>\n",
       "      <td>38.892853</td>\n",
       "      <td>2243.318359</td>\n",
       "    </tr>\n",
       "    <tr>\n",
       "      <th>375525</th>\n",
       "      <td>1041</td>\n",
       "      <td>3708</td>\n",
       "      <td>682417</td>\n",
       "      <td>0.466999</td>\n",
       "      <td>36.418621</td>\n",
       "      <td>2294.692139</td>\n",
       "    </tr>\n",
       "    <tr>\n",
       "      <th>375532</th>\n",
       "      <td>1048</td>\n",
       "      <td>3708</td>\n",
       "      <td>664032</td>\n",
       "      <td>0.472228</td>\n",
       "      <td>36.552303</td>\n",
       "      <td>2311.418945</td>\n",
       "    </tr>\n",
       "    <tr>\n",
       "      <th>375533</th>\n",
       "      <td>1049</td>\n",
       "      <td>3708</td>\n",
       "      <td>718494</td>\n",
       "      <td>0.463795</td>\n",
       "      <td>36.365662</td>\n",
       "      <td>2278.467773</td>\n",
       "    </tr>\n",
       "  </tbody>\n",
       "</table>\n",
       "</div>"
      ],
      "text/plain": [
       "                     sampleSiteID  sampleTime  samplePop  sampleMeanMass  \\\n",
       "sampleHistoryLength                                                        \n",
       "69129                        1041         684     902194        0.925659   \n",
       "69136                        1048         684     902122        0.925092   \n",
       "69137                        1049         684     919900        0.933642   \n",
       "103173                       1041        1020    1209042        0.851617   \n",
       "103180                       1048        1020    1207075        0.851547   \n",
       "103181                       1049        1020    1232247        0.862417   \n",
       "307437                       1041        3036     624727        0.681850   \n",
       "307445                       1049        3036     654694        0.677866   \n",
       "341481                       1041        3372     662227        0.563525   \n",
       "341488                       1048        3372     648497        0.568825   \n",
       "341489                       1049        3372     695363        0.559498   \n",
       "375525                       1041        3708     682417        0.466999   \n",
       "375532                       1048        3708     664032        0.472228   \n",
       "375533                       1049        3708     718494        0.463795   \n",
       "\n",
       "                     sampleMeanLength  sampleMeanSpawnTime  \n",
       "sampleHistoryLength                                         \n",
       "69129                       46.157269           341.262299  \n",
       "69136                       46.151157           341.413300  \n",
       "69137                       46.285336           338.323700  \n",
       "103173                      44.979012           477.487579  \n",
       "103180                      44.979473           478.736969  \n",
       "103181                      45.163395           473.769287  \n",
       "307437                      41.486202          2203.027588  \n",
       "307445                      41.434814          2188.512451  \n",
       "341481                      38.955555          2258.838379  \n",
       "341488                      39.083633          2275.476807  \n",
       "341489                      38.892853          2243.318359  \n",
       "375525                      36.418621          2294.692139  \n",
       "375532                      36.552303          2311.418945  \n",
       "375533                      36.365662          2278.467773  "
      ]
     },
     "execution_count": 243,
     "metadata": {},
     "output_type": "execute_result"
    }
   ],
   "source": [
    "df[df.samplePop > 0.5 * max(df.samplePop)]"
   ]
  },
  {
   "cell_type": "code",
   "execution_count": 189,
   "metadata": {},
   "outputs": [
    {
     "data": {
      "text/plain": [
       "11723031"
      ]
     },
     "execution_count": 189,
     "metadata": {},
     "output_type": "execute_result"
    }
   ],
   "source": [
    "sum(df[df.samplePop > 0.5 * max(df.samplePop)]['samplePop'])"
   ]
  },
  {
   "cell_type": "code",
   "execution_count": 190,
   "metadata": {},
   "outputs": [
    {
     "data": {
      "text/plain": [
       "17639411"
      ]
     },
     "execution_count": 190,
     "metadata": {},
     "output_type": "execute_result"
    }
   ],
   "source": [
    "sum(df.samplePop)"
   ]
  },
  {
   "cell_type": "code",
   "execution_count": 191,
   "metadata": {},
   "outputs": [
    {
     "data": {
      "text/plain": [
       "5916380"
      ]
     },
     "execution_count": 191,
     "metadata": {},
     "output_type": "execute_result"
    }
   ],
   "source": [
    "sum(df.samplePop) - sum(df[df.samplePop > 0.5 * max(df.samplePop)]['samplePop'])"
   ]
  },
  {
   "cell_type": "code",
   "execution_count": 192,
   "metadata": {},
   "outputs": [
    {
     "data": {
      "text/plain": [
       "array([  12,  348,  684, 1020, 1356, 1692, 2028, 2364, 2700, 3036, 3372,\n",
       "       3708], dtype=int32)"
      ]
     },
     "execution_count": 192,
     "metadata": {},
     "output_type": "execute_result"
    }
   ],
   "source": [
    "df.sampleTime.unique()"
   ]
  },
  {
   "cell_type": "code",
   "execution_count": 197,
   "metadata": {},
   "outputs": [
    {
     "data": {
      "text/plain": [
       "<matplotlib.collections.PathCollection at 0x114098950>"
      ]
     },
     "execution_count": 197,
     "metadata": {},
     "output_type": "execute_result"
    },
    {
     "data": {
      "image/png": "[encoded data removed]",
      "text/plain": [
       "<Figure size 640x480 with 1 Axes>"
      ]
     },
     "metadata": {},
     "output_type": "display_data"
    }
   ],
   "source": [
    "p = []\n",
    "for t in df.sampleTime.unique():\n",
    "    p.append(sum(df[df.sampleTime == t]['samplePop']))\n",
    "\n",
    "plt.scatter(x=df.sampleTime.unique(), y=p)"
   ]
  },
  {
   "cell_type": "markdown",
   "metadata": {},
   "source": []
  },
  {
   "cell_type": "code",
   "execution_count": 256,
   "metadata": {},
   "outputs": [
    {
     "data": {
      "text/plain": [
       "<matplotlib.collections.PathCollection at 0x174d69ca0>"
      ]
     },
     "execution_count": 256,
     "metadata": {},
     "output_type": "execute_result"
    },
    {
     "data": {
      "image/png": "[encoded data removed]",
      "text/plain": [
       "<Figure size 640x480 with 1 Axes>"
      ]
     },
     "metadata": {},
     "output_type": "display_data"
    }
   ],
   "source": [
    "q = []\n",
    "for t in df.sampleTime.unique():\n",
    "    q.append(np.mean(df[(df.sampleTime == t) & (df.sampleMeanLength != 0)]['sampleMeanLength']))\n",
    "plt.scatter(x = df.sampleTime.unique(), y = q)"
   ]
  },
  {
   "cell_type": "code",
   "execution_count": 257,
   "metadata": {},
   "outputs": [
    {
     "data": {
      "text/plain": [
       "<matplotlib.collections.PathCollection at 0x174d4edb0>"
      ]
     },
     "execution_count": 257,
     "metadata": {},
     "output_type": "execute_result"
    },
    {
     "data": {
      "image/png": "[encoded data removed]",
      "text/plain": [
       "<Figure size 640x480 with 1 Axes>"
      ]
     },
     "metadata": {},
     "output_type": "display_data"
    }
   ],
   "source": [
    "r = []\n",
    "for t in df.sampleTime.unique():\n",
    "    r.append(len(df[(df.sampleTime == t) & (df.sampleMeanLength != 0)]['sampleMeanLength']))\n",
    "plt.scatter(x = df.sampleTime.unique(), y = r)"
   ]
  },
  {
   "cell_type": "code",
   "execution_count": 372,
   "metadata": {},
   "outputs": [
    {
     "data": {
      "text/plain": [
       "<matplotlib.collections.PathCollection at 0x176a98e90>"
      ]
     },
     "execution_count": 372,
     "metadata": {},
     "output_type": "execute_result"
    },
    {
     "data": {
      "image/png": "[encoded data removed]",
      "text/plain": [
       "<Figure size 1200x500 with 1 Axes>"
      ]
     },
     "metadata": {},
     "output_type": "display_data"
    }
   ],
   "source": [
    "s = []\n",
    "times = df.sampleTime.unique()\n",
    "for t in times:\n",
    "    s.append(len(df[(df.sampleTime == t)\n",
    "                         # & (df.sampleMeanLength != 0)\n",
    "                           & (df.sampleSiteID == 1306)\n",
    "                           ]['sampleMeanLength']))\n",
    "plt.scatter(x = times, y = s)"
   ]
  },
  {
   "cell_type": "code",
   "execution_count": 357,
   "metadata": {},
   "outputs": [
    {
     "data": {
      "image/png": "[encoded data removed]",
      "text/plain": [
       "<Figure size 1200x500 with 1 Axes>"
      ]
     },
     "metadata": {},
     "output_type": "display_data"
    }
   ],
   "source": [
    "plt.hist(np.sqrt(df[df.samplePop > 0].samplePop), [x for x in range(1, 1000, 50)],  color=\"wheat\", edgecolor = \"black\")\n",
    "plt.yscale('log')\n",
    "# plt.xscale('log')\n",
    "plt.rcParams['figure.figsize'] = [12, 5]\n",
    "plt.grid(visible=True, axis='y', which='both')\n"
   ]
  },
  {
   "cell_type": "code",
   "execution_count": 365,
   "metadata": {},
   "outputs": [
    {
     "data": {
      "image/png": "[encoded data removed]",
      "text/plain": [
       "<Figure size 1200x500 with 1 Axes>"
      ]
     },
     "metadata": {},
     "output_type": "display_data"
    }
   ],
   "source": [
    "plt.hist(np.sqrt(df[df.samplePop >= -1].samplePop), [x for x in range(0, 10)],  color=\"wheat\", edgecolor = \"black\")\n",
    "plt.yscale('log')\n",
    "# plt.xscale('log')\n",
    "plt.rcParams['figure.figsize'] = [12, 5]\n",
    "plt.grid(visible=True, axis='y', which='major')\n"
   ]
  },
  {
   "cell_type": "code",
   "execution_count": 373,
   "metadata": {},
   "outputs": [],
   "source": [
    "recruits = pd.read_csv('data/skagit_migrants_2006.csv')"
   ]
  },
  {
   "cell_type": "code",
   "execution_count": 374,
   "metadata": {},
   "outputs": [
    {
     "data": {
      "text/plain": [
       "Index(['day', 'month', 'year', 'abundance'], dtype='object')"
      ]
     },
     "execution_count": 374,
     "metadata": {},
     "output_type": "execute_result"
    }
   ],
   "source": [
    "recruits.keys()"
   ]
  },
  {
   "cell_type": "code",
   "execution_count": 375,
   "metadata": {},
   "outputs": [
    {
     "data": {
      "text/plain": [
       "6791239"
      ]
     },
     "execution_count": 375,
     "metadata": {},
     "output_type": "execute_result"
    }
   ],
   "source": [
    "sum(recruits.abundance)"
   ]
  },
  {
   "cell_type": "code",
   "execution_count": 380,
   "metadata": {},
   "outputs": [
    {
     "data": {
      "text/plain": [
       "<matplotlib.collections.PathCollection at 0x17814c8f0>"
      ]
     },
     "execution_count": 380,
     "metadata": {},
     "output_type": "execute_result"
    },
    {
     "data": {
      "image/png": "[encoded data removed]",
      "text/plain": [
       "<Figure size 1200x500 with 1 Axes>"
      ]
     },
     "metadata": {},
     "output_type": "display_data"
    }
   ],
   "source": [
    "plt.scatter(x=recruits.day, y=recruits.abundance, color='black', marker='.')"
   ]
  },
  {
   "cell_type": "code",
   "execution_count": null,
   "metadata": {},
   "outputs": [],
   "source": []
  }
 ],
 "metadata": {
  "kernelspec": {
   "display_name": "netcdf",
   "language": "python",
   "name": "python3"
  },
  "language_info": {
   "codemirror_mode": {
    "name": "ipython",
    "version": 3
   },
   "file_extension": ".py",
   "mimetype": "text/x-python",
   "name": "python",
   "nbconvert_exporter": "python",
   "pygments_lexer": "ipython3",
   "version": "3.12.3"
  }
 },
 "nbformat": 4,
 "nbformat_minor": 2
}
